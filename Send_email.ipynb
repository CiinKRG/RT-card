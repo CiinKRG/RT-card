{
  "nbformat": 4,
  "nbformat_minor": 0,
  "metadata": {
    "colab": {
      "provenance": [],
      "authorship_tag": "ABX9TyOB+CvbL7kfUd4oSGp8WmqD",
      "include_colab_link": true
    },
    "kernelspec": {
      "name": "python3",
      "display_name": "Python 3"
    },
    "language_info": {
      "name": "python"
    }
  },
  "cells": [
    {
      "cell_type": "markdown",
      "metadata": {
        "id": "view-in-github",
        "colab_type": "text"
      },
      "source": [
        "<a href=\"https://colab.research.google.com/github/CiinKRG/RT-card/blob/main/Send_email.ipynb\" target=\"_parent\"><img src=\"https://colab.research.google.com/assets/colab-badge.svg\" alt=\"Open In Colab\"/></a>"
      ]
    },
    {
      "cell_type": "code",
      "execution_count": 6,
      "metadata": {
        "id": "bBQg6-6b_gaU"
      },
      "outputs": [],
      "source": [
        "import smtplib, ssl\n",
        "from email.mime.text import MIMEText\n",
        "from email.mime.multipart import MIMEMultipart"
      ]
    },
    {
      "cell_type": "code",
      "source": [
        "#Credenciales\n",
        "sender_email = \"\"\n",
        "receiver_email = \"\"\n",
        "password = \"\""
      ],
      "metadata": {
        "id": "gEBxv80BZlU1"
      },
      "execution_count": 7,
      "outputs": []
    },
    {
      "cell_type": "code",
      "source": [
        "message = MIMEMultipart(\"alternative\")\n",
        "message[\"Subject\"] = \"multipart test\"\n",
        "message[\"From\"] = sender_email\n",
        "message[\"To\"] = receiver_email\n",
        "\n",
        "# Create the plain-text and HTML version of your message\n",
        "html = \"\"\"\\\n",
        "<html>\n",
        "<body>\n",
        "\n",
        "<h1 style=\"color:#161E64; text-align: center;\">Nueva tarjeta de crédito AQUA</h1>\n",
        "\n",
        "<b4>Hola usuarioBBVA tu tarjeta de crédito AQUA te está esperando</b4>\n",
        "<br><br>\n",
        "<b4>En unos momentos te contactaremos por Whatsapp para continuar tu proceso, o si lo deseas puedes entrar al siguiente link y continuarlo:</b4>\n",
        "<br><br>\n",
        "Accede \n",
        "<a href=\"https://www.bbva.com.co/personas/productos/tarjetas/credito/herramientas/solicitar/\">AQUÍ</a>\n",
        " desde tu celular\n",
        "<br>\n",
        "<center>\n",
        "<img src=\"https://www.bbva.com.co/content/dam/public-web/colombia/new-beginning/Tarjeta-de-credito-aqua-pidela-qr-en-linea1.png.img.960.1653534303936.png\" alt=\"Girl in a jacket\" width=\"50%\">\n",
        "</center>\n",
        "</body>\n",
        "</html>\n",
        "\"\"\"\n",
        "\n",
        "# Turn these into plain/html MIMEText objects\n",
        "part1 = MIMEText(text, \"plain\")\n",
        "part2 = MIMEText(html, \"html\")\n",
        "\n",
        "# Add HTML/plain-text parts to MIMEMultipart message\n",
        "# The email client will try to render the last part first\n",
        "message.attach(part1)\n",
        "message.attach(part2)\n",
        "\n",
        "# Create secure connection with server and send email\n",
        "context = ssl.create_default_context()\n",
        "with smtplib.SMTP_SSL(\"smtp.gmail.com\", 465, context=context) as server:\n",
        "    server.login(sender_email, password)\n",
        "    server.sendmail(\n",
        "        sender_email, receiver_email, message.as_string()\n",
        "    )"
      ],
      "metadata": {
        "id": "-NB849P-YtzV"
      },
      "execution_count": 10,
      "outputs": []
    },
    {
      "cell_type": "code",
      "source": [],
      "metadata": {
        "id": "pZYvwT8iYSNz"
      },
      "execution_count": null,
      "outputs": []
    }
  ]
}