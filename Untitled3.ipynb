{
  "nbformat": 4,
  "nbformat_minor": 0,
  "metadata": {
    "colab": {
      "provenance": [],
      "include_colab_link": true
    },
    "kernelspec": {
      "name": "python3",
      "display_name": "Python 3"
    },
    "language_info": {
      "name": "python"
    }
  },
  "cells": [
    {
      "cell_type": "markdown",
      "metadata": {
        "id": "view-in-github",
        "colab_type": "text"
      },
      "source": [
        "<a href=\"https://colab.research.google.com/github/CiinKRG/RT-card/blob/main/Untitled3.ipynb\" target=\"_parent\"><img src=\"https://colab.research.google.com/assets/colab-badge.svg\" alt=\"Open In Colab\"/></a>"
      ]
    },
    {
      "cell_type": "code",
      "source": [
        "pip install pyspark"
      ],
      "metadata": {
        "colab": {
          "base_uri": "https://localhost:8080/"
        },
        "id": "4lDnEupDvPM7",
        "outputId": "eff59deb-c1d0-48ef-8c2f-a23b0bcb8d40"
      },
      "execution_count": null,
      "outputs": [
        {
          "output_type": "stream",
          "name": "stdout",
          "text": [
            "Looking in indexes: https://pypi.org/simple, https://us-python.pkg.dev/colab-wheels/public/simple/\n",
            "Collecting pyspark\n",
            "  Downloading pyspark-3.3.0.tar.gz (281.3 MB)\n",
            "\u001b[K     |████████████████████████████████| 281.3 MB 65 kB/s \n",
            "\u001b[?25hCollecting py4j==0.10.9.5\n",
            "  Downloading py4j-0.10.9.5-py2.py3-none-any.whl (199 kB)\n",
            "\u001b[K     |████████████████████████████████| 199 kB 46.4 MB/s \n",
            "\u001b[?25hBuilding wheels for collected packages: pyspark\n",
            "  Building wheel for pyspark (setup.py) ... \u001b[?25l\u001b[?25hdone\n",
            "  Created wheel for pyspark: filename=pyspark-3.3.0-py2.py3-none-any.whl size=281764026 sha256=36cd2512ffabc5a1d06dcf4ab0774d7aeaac2aa1a9ec2bb5555f5ac42baa22cc\n",
            "  Stored in directory: /root/.cache/pip/wheels/7a/8e/1b/f73a52650d2e5f337708d9f6a1750d451a7349a867f928b885\n",
            "Successfully built pyspark\n",
            "Installing collected packages: py4j, pyspark\n",
            "Successfully installed py4j-0.10.9.5 pyspark-3.3.0\n"
          ]
        }
      ]
    },
    {
      "cell_type": "code",
      "source": [
        "#import findspark\n",
        "#findspark.init()\n",
        "import pyspark # only run after findspark.init()\n",
        "from pyspark.sql import SparkSession"
      ],
      "metadata": {
        "id": "Hl5MwXXUvV6R"
      },
      "execution_count": null,
      "outputs": []
    },
    {
      "cell_type": "code",
      "source": [
        "spark = SparkSession.builder \\\n",
        "   .master(\"local\") \\\n",
        "   .appName(\"Natural Language Processing\") \\\n",
        "   .config(\"spark.executor.memory\", \"6gb\") \\\n",
        "   .getOrCreate()"
      ],
      "metadata": {
        "id": "WTDNJ4KZvmJ_"
      },
      "execution_count": null,
      "outputs": []
    },
    {
      "cell_type": "code",
      "source": [
        "from google.colab import files \n",
        "uploaded89 = files.upload()"
      ],
      "metadata": {
        "colab": {
          "base_uri": "https://localhost:8080/",
          "height": 73
        },
        "id": "ks2LnNe15QyW",
        "outputId": "a367d5ae-c9a5-4118-f0b6-274ed788e564"
      },
      "execution_count": null,
      "outputs": [
        {
          "output_type": "display_data",
          "data": {
            "text/plain": [
              "<IPython.core.display.HTML object>"
            ],
            "text/html": [
              "\n",
              "     <input type=\"file\" id=\"files-ed6ba6bc-8c47-487a-a374-b3e09073385e\" name=\"files[]\" multiple disabled\n",
              "        style=\"border:none\" />\n",
              "     <output id=\"result-ed6ba6bc-8c47-487a-a374-b3e09073385e\">\n",
              "      Upload widget is only available when the cell has been executed in the\n",
              "      current browser session. Please rerun this cell to enable.\n",
              "      </output>\n",
              "      <script>// Copyright 2017 Google LLC\n",
              "//\n",
              "// Licensed under the Apache License, Version 2.0 (the \"License\");\n",
              "// you may not use this file except in compliance with the License.\n",
              "// You may obtain a copy of the License at\n",
              "//\n",
              "//      http://www.apache.org/licenses/LICENSE-2.0\n",
              "//\n",
              "// Unless required by applicable law or agreed to in writing, software\n",
              "// distributed under the License is distributed on an \"AS IS\" BASIS,\n",
              "// WITHOUT WARRANTIES OR CONDITIONS OF ANY KIND, either express or implied.\n",
              "// See the License for the specific language governing permissions and\n",
              "// limitations under the License.\n",
              "\n",
              "/**\n",
              " * @fileoverview Helpers for google.colab Python module.\n",
              " */\n",
              "(function(scope) {\n",
              "function span(text, styleAttributes = {}) {\n",
              "  const element = document.createElement('span');\n",
              "  element.textContent = text;\n",
              "  for (const key of Object.keys(styleAttributes)) {\n",
              "    element.style[key] = styleAttributes[key];\n",
              "  }\n",
              "  return element;\n",
              "}\n",
              "\n",
              "// Max number of bytes which will be uploaded at a time.\n",
              "const MAX_PAYLOAD_SIZE = 100 * 1024;\n",
              "\n",
              "function _uploadFiles(inputId, outputId) {\n",
              "  const steps = uploadFilesStep(inputId, outputId);\n",
              "  const outputElement = document.getElementById(outputId);\n",
              "  // Cache steps on the outputElement to make it available for the next call\n",
              "  // to uploadFilesContinue from Python.\n",
              "  outputElement.steps = steps;\n",
              "\n",
              "  return _uploadFilesContinue(outputId);\n",
              "}\n",
              "\n",
              "// This is roughly an async generator (not supported in the browser yet),\n",
              "// where there are multiple asynchronous steps and the Python side is going\n",
              "// to poll for completion of each step.\n",
              "// This uses a Promise to block the python side on completion of each step,\n",
              "// then passes the result of the previous step as the input to the next step.\n",
              "function _uploadFilesContinue(outputId) {\n",
              "  const outputElement = document.getElementById(outputId);\n",
              "  const steps = outputElement.steps;\n",
              "\n",
              "  const next = steps.next(outputElement.lastPromiseValue);\n",
              "  return Promise.resolve(next.value.promise).then((value) => {\n",
              "    // Cache the last promise value to make it available to the next\n",
              "    // step of the generator.\n",
              "    outputElement.lastPromiseValue = value;\n",
              "    return next.value.response;\n",
              "  });\n",
              "}\n",
              "\n",
              "/**\n",
              " * Generator function which is called between each async step of the upload\n",
              " * process.\n",
              " * @param {string} inputId Element ID of the input file picker element.\n",
              " * @param {string} outputId Element ID of the output display.\n",
              " * @return {!Iterable<!Object>} Iterable of next steps.\n",
              " */\n",
              "function* uploadFilesStep(inputId, outputId) {\n",
              "  const inputElement = document.getElementById(inputId);\n",
              "  inputElement.disabled = false;\n",
              "\n",
              "  const outputElement = document.getElementById(outputId);\n",
              "  outputElement.innerHTML = '';\n",
              "\n",
              "  const pickedPromise = new Promise((resolve) => {\n",
              "    inputElement.addEventListener('change', (e) => {\n",
              "      resolve(e.target.files);\n",
              "    });\n",
              "  });\n",
              "\n",
              "  const cancel = document.createElement('button');\n",
              "  inputElement.parentElement.appendChild(cancel);\n",
              "  cancel.textContent = 'Cancel upload';\n",
              "  const cancelPromise = new Promise((resolve) => {\n",
              "    cancel.onclick = () => {\n",
              "      resolve(null);\n",
              "    };\n",
              "  });\n",
              "\n",
              "  // Wait for the user to pick the files.\n",
              "  const files = yield {\n",
              "    promise: Promise.race([pickedPromise, cancelPromise]),\n",
              "    response: {\n",
              "      action: 'starting',\n",
              "    }\n",
              "  };\n",
              "\n",
              "  cancel.remove();\n",
              "\n",
              "  // Disable the input element since further picks are not allowed.\n",
              "  inputElement.disabled = true;\n",
              "\n",
              "  if (!files) {\n",
              "    return {\n",
              "      response: {\n",
              "        action: 'complete',\n",
              "      }\n",
              "    };\n",
              "  }\n",
              "\n",
              "  for (const file of files) {\n",
              "    const li = document.createElement('li');\n",
              "    li.append(span(file.name, {fontWeight: 'bold'}));\n",
              "    li.append(span(\n",
              "        `(${file.type || 'n/a'}) - ${file.size} bytes, ` +\n",
              "        `last modified: ${\n",
              "            file.lastModifiedDate ? file.lastModifiedDate.toLocaleDateString() :\n",
              "                                    'n/a'} - `));\n",
              "    const percent = span('0% done');\n",
              "    li.appendChild(percent);\n",
              "\n",
              "    outputElement.appendChild(li);\n",
              "\n",
              "    const fileDataPromise = new Promise((resolve) => {\n",
              "      const reader = new FileReader();\n",
              "      reader.onload = (e) => {\n",
              "        resolve(e.target.result);\n",
              "      };\n",
              "      reader.readAsArrayBuffer(file);\n",
              "    });\n",
              "    // Wait for the data to be ready.\n",
              "    let fileData = yield {\n",
              "      promise: fileDataPromise,\n",
              "      response: {\n",
              "        action: 'continue',\n",
              "      }\n",
              "    };\n",
              "\n",
              "    // Use a chunked sending to avoid message size limits. See b/62115660.\n",
              "    let position = 0;\n",
              "    do {\n",
              "      const length = Math.min(fileData.byteLength - position, MAX_PAYLOAD_SIZE);\n",
              "      const chunk = new Uint8Array(fileData, position, length);\n",
              "      position += length;\n",
              "\n",
              "      const base64 = btoa(String.fromCharCode.apply(null, chunk));\n",
              "      yield {\n",
              "        response: {\n",
              "          action: 'append',\n",
              "          file: file.name,\n",
              "          data: base64,\n",
              "        },\n",
              "      };\n",
              "\n",
              "      let percentDone = fileData.byteLength === 0 ?\n",
              "          100 :\n",
              "          Math.round((position / fileData.byteLength) * 100);\n",
              "      percent.textContent = `${percentDone}% done`;\n",
              "\n",
              "    } while (position < fileData.byteLength);\n",
              "  }\n",
              "\n",
              "  // All done.\n",
              "  yield {\n",
              "    response: {\n",
              "      action: 'complete',\n",
              "    }\n",
              "  };\n",
              "}\n",
              "\n",
              "scope.google = scope.google || {};\n",
              "scope.google.colab = scope.google.colab || {};\n",
              "scope.google.colab._files = {\n",
              "  _uploadFiles,\n",
              "  _uploadFilesContinue,\n",
              "};\n",
              "})(self);\n",
              "</script> "
            ]
          },
          "metadata": {}
        },
        {
          "output_type": "stream",
          "name": "stdout",
          "text": [
            "Saving chatbotbbva2.csv to chatbotbbva2.csv\n"
          ]
        }
      ]
    },
    {
      "cell_type": "code",
      "source": [
        "df = spark.read.format('com.databricks.spark.csv')\\\n",
        "                    .options(header='true', inferschema='true')\\\n",
        "                    .option(\"encoding\", \"latin1\")\\\n",
        "                    .load('chatbotbbva2.csv')"
      ],
      "metadata": {
        "id": "bitUQxqNwBOX"
      },
      "execution_count": null,
      "outputs": []
    },
    {
      "cell_type": "code",
      "source": [
        "df.show()"
      ],
      "metadata": {
        "colab": {
          "base_uri": "https://localhost:8080/"
        },
        "id": "l3jxuWSewHG6",
        "outputId": "deff4545-6485-47c6-d23e-9077f17f1f58"
      },
      "execution_count": null,
      "outputs": [
        {
          "output_type": "stream",
          "name": "stdout",
          "text": [
            "+---+---------+--------------------+\n",
            "| id|    label|                chat|\n",
            "+---+---------+--------------------+\n",
            "|  1|rechazado|            no lo se|\n",
            "|  2|rechazado|             no creo|\n",
            "|  3|rechazado|no es el momento ...|\n",
            "|  4|rechazado|jamas tendrÃ­a un...|\n",
            "|  5|rechazado|      no digas cosas|\n",
            "|  6|rechazado|no creo que sea c...|\n",
            "|  7|rechazado|yo no he solicita...|\n",
            "|  8|rechazado|no solicite ningu...|\n",
            "|  9|rechazado|   no amigo, gracias|\n",
            "| 10|rechazado|           no quiero|\n",
            "| 11|rechazado|no estoy dispuest...|\n",
            "| 12|rechazado|no me gustarÃ­a p...|\n",
            "| 13| aceptado|creo que me caerÃ...|\n",
            "| 14|rechazado|mmmm yo creo que ...|\n",
            "| 15| aceptado|tienen alguna inf...|\n",
            "| 16| aceptado|cuales son sus me...|\n",
            "| 17|rechazado|mmm es que no me ...|\n",
            "| 18| aceptado|consultan mi burÃ...|\n",
            "| 19|rechazado|tengo una extensi...|\n",
            "| 20| aceptado|cuÃ¡l es su anual...|\n",
            "+---+---------+--------------------+\n",
            "only showing top 20 rows\n",
            "\n"
          ]
        }
      ]
    },
    {
      "cell_type": "code",
      "source": [
        "from googletrans import Translator\n",
        "translator = Translator()"
      ],
      "metadata": {
        "id": "Xq2PnmKrmwUj"
      },
      "execution_count": null,
      "outputs": []
    },
    {
      "cell_type": "code",
      "source": [
        "pandasDF = df.toPandas()\n",
        "pandasDF['translated_label'] = pandasDF['label'].apply(lambda x: translator.translate(x, dest='en').text)\n",
        "pandasDF['translated_chat'] = pandasDF['chat'].apply(lambda x: translator.translate(x, dest='en').text)\n",
        "pandasDF = pandasDF.drop(['label', 'chat'], axis=1)"
      ],
      "metadata": {
        "id": "SbZdGkZAn7j6"
      },
      "execution_count": null,
      "outputs": []
    },
    {
      "cell_type": "code",
      "source": [
        "df = spark.createDataFrame(pandasDF) \n",
        "df = df.withColumnRenamed(\"translated_label\",\"label\")\n",
        "df = df.withColumnRenamed(\"translated_chat\",\"chat\")\n",
        "df.show()"
      ],
      "metadata": {
        "colab": {
          "base_uri": "https://localhost:8080/"
        },
        "id": "2xUVWhMpnoB0",
        "outputId": "66b7e47b-626d-4109-e26b-7479b42938b3"
      },
      "execution_count": null,
      "outputs": [
        {
          "output_type": "stream",
          "name": "stdout",
          "text": [
            "+---+--------+--------------------+\n",
            "| id|   label|                chat|\n",
            "+---+--------+--------------------+\n",
            "|  1| refused|          don't know|\n",
            "|  2| refused|    I don't think so|\n",
            "|  3| refused|It is not the tim...|\n",
            "|  4| refused|I would never hav...|\n",
            "|  5| refused|    Don't say things|\n",
            "|  6| refused|I don't think it'...|\n",
            "|  7| refused|I have not reques...|\n",
            "|  8| refused|Do not request an...|\n",
            "|  9| refused|   No friend, thanks|\n",
            "| 10| refused|       I do not want|\n",
            "| 11| refused|I am not arranged...|\n",
            "| 12| refused|I would not like ...|\n",
            "| 13|accepted|I think a credit ...|\n",
            "| 14| refused|mmmm I think that...|\n",
            "| 15|accepted|They have an addi...|\n",
            "| 16|accepted|what are your bes...|\n",
            "| 17| refused|mmm is that I don...|\n",
            "| 18|accepted|Do you consult my...|\n",
            "| 19| refused|I have an extensi...|\n",
            "| 20|accepted|What is your annu...|\n",
            "+---+--------+--------------------+\n",
            "only showing top 20 rows\n",
            "\n"
          ]
        }
      ]
    },
    {
      "cell_type": "code",
      "source": [
        "df.groupBy(\"label\") \\\n",
        "    .count() \\\n",
        "    .orderBy(\"count\", ascending = False) \\\n",
        "    .show()"
      ],
      "metadata": {
        "colab": {
          "base_uri": "https://localhost:8080/"
        },
        "id": "12-gIsp97pjY",
        "outputId": "4fa82110-1fc6-4389-92d8-3d6dfe988056"
      },
      "execution_count": null,
      "outputs": [
        {
          "output_type": "stream",
          "name": "stdout",
          "text": [
            "+--------+-----+\n",
            "|   label|count|\n",
            "+--------+-----+\n",
            "| refused|   18|\n",
            "|accepted|   10|\n",
            "+--------+-----+\n",
            "\n"
          ]
        }
      ]
    },
    {
      "cell_type": "code",
      "source": [
        "import pyspark.sql.functions as F\n",
        "df = df.withColumn('word_count',F.size(F.split(F.col('chat'),' ')))"
      ],
      "metadata": {
        "id": "qh3pPEW_7wOH"
      },
      "execution_count": null,
      "outputs": []
    },
    {
      "cell_type": "code",
      "source": [
        "df.show()"
      ],
      "metadata": {
        "colab": {
          "base_uri": "https://localhost:8080/"
        },
        "id": "b4iONHDa76LY",
        "outputId": "40e04a5d-9d47-4c7b-e602-a57d3c518d71"
      },
      "execution_count": null,
      "outputs": [
        {
          "output_type": "stream",
          "name": "stdout",
          "text": [
            "+---+--------+--------------------+----------+\n",
            "| id|   label|                chat|word_count|\n",
            "+---+--------+--------------------+----------+\n",
            "|  1| refused|          don't know|         2|\n",
            "|  2| refused|    I don't think so|         4|\n",
            "|  3| refused|It is not the tim...|         8|\n",
            "|  4| refused|I would never hav...|         7|\n",
            "|  5| refused|    Don't say things|         3|\n",
            "|  6| refused|I don't think it'...|         8|\n",
            "|  7| refused|I have not reques...|         5|\n",
            "|  8| refused|Do not request an...|         5|\n",
            "|  9| refused|   No friend, thanks|         3|\n",
            "| 10| refused|       I do not want|         4|\n",
            "| 11| refused|I am not arranged...|         7|\n",
            "| 12| refused|I would not like ...|        16|\n",
            "| 13|accepted|I think a credit ...|        13|\n",
            "| 14| refused|mmmm I think that...|         7|\n",
            "| 15|accepted|They have an addi...|         9|\n",
            "| 16|accepted|what are your bes...|         5|\n",
            "| 17| refused|mmm is that I don...|        10|\n",
            "| 18|accepted|Do you consult my...|         6|\n",
            "| 19| refused|I have an extensi...|         8|\n",
            "| 20|accepted|What is your annu...|         4|\n",
            "+---+--------+--------------------+----------+\n",
            "only showing top 20 rows\n",
            "\n"
          ]
        }
      ]
    },
    {
      "cell_type": "code",
      "source": [
        "df.groupBy('label')\\\n",
        "    .agg(F.avg('word_count').alias('avg_word_count'))\\\n",
        "    .orderBy('avg_word_count', ascending = False) \\\n",
        "    .show()"
      ],
      "metadata": {
        "colab": {
          "base_uri": "https://localhost:8080/"
        },
        "id": "2R1yhTeP79ri",
        "outputId": "49626000-60b9-40c2-d2c4-ff52ad30f70f"
      },
      "execution_count": null,
      "outputs": [
        {
          "output_type": "stream",
          "name": "stdout",
          "text": [
            "+--------+-----------------+\n",
            "|   label|   avg_word_count|\n",
            "+--------+-----------------+\n",
            "|accepted|              7.8|\n",
            "| refused|6.666666666666667|\n",
            "+--------+-----------------+\n",
            "\n"
          ]
        }
      ]
    },
    {
      "cell_type": "code",
      "source": [
        "df_plot = df.select('id', 'word_count').toPandas()"
      ],
      "metadata": {
        "id": "X9AuGo0Q81gJ"
      },
      "execution_count": null,
      "outputs": []
    },
    {
      "cell_type": "code",
      "source": [
        "!pip3 install textblob"
      ],
      "metadata": {
        "colab": {
          "base_uri": "https://localhost:8080/"
        },
        "id": "Ds9CBspm8a_l",
        "outputId": "5c52ec81-58e0-47d7-89a1-c3526e2411f1"
      },
      "execution_count": null,
      "outputs": [
        {
          "output_type": "stream",
          "name": "stdout",
          "text": [
            "Looking in indexes: https://pypi.org/simple, https://us-python.pkg.dev/colab-wheels/public/simple/\n",
            "Requirement already satisfied: textblob in /usr/local/lib/python3.7/dist-packages (0.15.3)\n",
            "Requirement already satisfied: nltk>=3.1 in /usr/local/lib/python3.7/dist-packages (from textblob) (3.7)\n",
            "Requirement already satisfied: regex>=2021.8.3 in /usr/local/lib/python3.7/dist-packages (from nltk>=3.1->textblob) (2022.6.2)\n",
            "Requirement already satisfied: click in /usr/local/lib/python3.7/dist-packages (from nltk>=3.1->textblob) (7.1.2)\n",
            "Requirement already satisfied: joblib in /usr/local/lib/python3.7/dist-packages (from nltk>=3.1->textblob) (1.2.0)\n",
            "Requirement already satisfied: tqdm in /usr/local/lib/python3.7/dist-packages (from nltk>=3.1->textblob) (4.64.1)\n"
          ]
        }
      ]
    },
    {
      "cell_type": "code",
      "source": [
        "from textblob import TextBlob\n",
        "def sentiment_score(chat):\n",
        "        return TextBlob(chat).sentiment.polarity"
      ],
      "metadata": {
        "id": "n5cqAw_y9GdE"
      },
      "execution_count": null,
      "outputs": []
    },
    {
      "cell_type": "code",
      "source": [
        "from pyspark.sql.types import FloatType\n",
        "sentiment_score_udf = F.udf(lambda x: sentiment_score(x), FloatType())"
      ],
      "metadata": {
        "id": "IQiW93eO9RUI"
      },
      "execution_count": null,
      "outputs": []
    },
    {
      "cell_type": "code",
      "source": [
        "df = df.select('id', 'label', 'chat','word_count',\n",
        "                   sentiment_score_udf('chat').alias('sentiment_score'))\n",
        "df.show()"
      ],
      "metadata": {
        "colab": {
          "base_uri": "https://localhost:8080/"
        },
        "id": "yG_aft9w9VGF",
        "outputId": "d3c4fc02-0581-403c-d045-984674ad94e0"
      },
      "execution_count": null,
      "outputs": [
        {
          "output_type": "stream",
          "name": "stdout",
          "text": [
            "+---+--------+--------------------+----------+---------------+\n",
            "| id|   label|                chat|word_count|sentiment_score|\n",
            "+---+--------+--------------------+----------+---------------+\n",
            "|  1| refused|          don't know|         2|            0.0|\n",
            "|  2| refused|    I don't think so|         4|            0.0|\n",
            "|  3| refused|It is not the tim...|         8|            0.0|\n",
            "|  4| refused|I would never hav...|         7|            0.0|\n",
            "|  5| refused|    Don't say things|         3|            0.0|\n",
            "|  6| refused|I don't think it'...|         8|            0.0|\n",
            "|  7| refused|I have not reques...|         5|            0.0|\n",
            "|  8| refused|Do not request an...|         5|            0.0|\n",
            "|  9| refused|   No friend, thanks|         3|            0.2|\n",
            "| 10| refused|       I do not want|         4|            0.0|\n",
            "| 11| refused|I am not arranged...|         7|            0.0|\n",
            "| 12| refused|I would not like ...|        16|            0.5|\n",
            "| 13|accepted|I think a credit ...|        13|            0.0|\n",
            "| 14| refused|mmmm I think that...|         7|            0.5|\n",
            "| 15|accepted|They have an addi...|         9|            0.0|\n",
            "| 16|accepted|what are your bes...|         5|            1.0|\n",
            "| 17| refused|mmm is that I don...|        10|            0.2|\n",
            "| 18|accepted|Do you consult my...|         6|        -0.1875|\n",
            "| 19| refused|I have an extensi...|         8|            0.0|\n",
            "| 20|accepted|What is your annu...|         4|            0.0|\n",
            "+---+--------+--------------------+----------+---------------+\n",
            "only showing top 20 rows\n",
            "\n"
          ]
        }
      ]
    },
    {
      "cell_type": "code",
      "source": [
        "df.groupBy('label')\\\n",
        "    .agg(F.avg('sentiment_score').alias('avg_sentiment_score'))\\\n",
        "    .orderBy('avg_sentiment_score', ascending = False) \\\n",
        "    .show()"
      ],
      "metadata": {
        "colab": {
          "base_uri": "https://localhost:8080/"
        },
        "id": "1a7P0HjC9Xk9",
        "outputId": "16d8f820-6d2a-4a06-ee97-a6c004e07eb6"
      },
      "execution_count": null,
      "outputs": [
        {
          "output_type": "stream",
          "name": "stdout",
          "text": [
            "+--------+-------------------+\n",
            "|   label|avg_sentiment_score|\n",
            "+--------+-------------------+\n",
            "| refused|0.14444444411330754|\n",
            "|accepted|0.10125000029802322|\n",
            "+--------+-------------------+\n",
            "\n"
          ]
        }
      ]
    },
    {
      "cell_type": "code",
      "source": [
        "df = df.withColumn('words',F.split(F.col('chat'),' '))\n",
        "df.show()"
      ],
      "metadata": {
        "colab": {
          "base_uri": "https://localhost:8080/"
        },
        "id": "guSLANrx9bO9",
        "outputId": "59a6001e-4b02-4258-f51a-a60dfc745e16"
      },
      "execution_count": null,
      "outputs": [
        {
          "output_type": "stream",
          "name": "stdout",
          "text": [
            "+---+--------+--------------------+----------+---------------+--------------------+\n",
            "| id|   label|                chat|word_count|sentiment_score|               words|\n",
            "+---+--------+--------------------+----------+---------------+--------------------+\n",
            "|  1| refused|          don't know|         2|            0.0|       [don't, know]|\n",
            "|  2| refused|    I don't think so|         4|            0.0|[I, don't, think,...|\n",
            "|  3| refused|It is not the tim...|         8|            0.0|[It, is, not, the...|\n",
            "|  4| refused|I would never hav...|         7|            0.0|[I, would, never,...|\n",
            "|  5| refused|    Don't say things|         3|            0.0|[Don't, say, things]|\n",
            "|  6| refused|I don't think it'...|         8|            0.0|[I, don't, think,...|\n",
            "|  7| refused|I have not reques...|         5|            0.0|[I, have, not, re...|\n",
            "|  8| refused|Do not request an...|         5|            0.0|[Do, not, request...|\n",
            "|  9| refused|   No friend, thanks|         3|            0.2|[No, friend,, tha...|\n",
            "| 10| refused|       I do not want|         4|            0.0|  [I, do, not, want]|\n",
            "| 11| refused|I am not arranged...|         7|            0.0|[I, am, not, arra...|\n",
            "| 12| refused|I would not like ...|        16|            0.5|[I, would, not, l...|\n",
            "| 13|accepted|I think a credit ...|        13|            0.0|[I, think, a, cre...|\n",
            "| 14| refused|mmmm I think that...|         7|            0.5|[mmmm, I, think, ...|\n",
            "| 15|accepted|They have an addi...|         9|            0.0|[They, have, an, ...|\n",
            "| 16|accepted|what are your bes...|         5|            1.0|[what, are, your,...|\n",
            "| 17| refused|mmm is that I don...|        10|            0.2|[mmm, is, that, I...|\n",
            "| 18|accepted|Do you consult my...|         6|        -0.1875|[Do, you, consult...|\n",
            "| 19| refused|I have an extensi...|         8|            0.0|[I, have, an, ext...|\n",
            "| 20|accepted|What is your annu...|         4|            0.0|[What, is, your, ...|\n",
            "+---+--------+--------------------+----------+---------------+--------------------+\n",
            "only showing top 20 rows\n",
            "\n"
          ]
        }
      ]
    },
    {
      "cell_type": "code",
      "source": [
        "stop_words = ['i','me','my','myself','we','our','ours','ourselves',\n",
        "              'you','your','yours','yourself','yourselves','he','him',\n",
        "              'his','himself','she','her','hers','herself','it','its',\n",
        "              'itself','they','them','their','theirs','themselves',\n",
        "              'what','which','who','whom','this','that','these','those',\n",
        "              'am','is','are','was','were','be','been','being','have',\n",
        "              'has','had','having','do','does','did','doing','a','an',\n",
        "              'the','and','but','if','or','because','as','until','while',\n",
        "              'of','at','by','for','with','about','against','between',\n",
        "              'into','through','during','before','after','above','below',\n",
        "              'to','from','up','down','in','out','on','off','over','under',\n",
        "              'again','further','then','once','here','there','when','where',\n",
        "              'why','how','all','any','both','each','few','more','most',\n",
        "              'other','some','such','no','nor','not','only','own','same',\n",
        "              'so','than','too','very','can','will','just','don','should','now']"
      ],
      "metadata": {
        "id": "Q9zwyqE49egZ"
      },
      "execution_count": null,
      "outputs": []
    },
    {
      "cell_type": "code",
      "source": [
        "from pyspark.ml.feature import StopWordsRemover"
      ],
      "metadata": {
        "id": "QXRlNGij9k-7"
      },
      "execution_count": null,
      "outputs": []
    },
    {
      "cell_type": "code",
      "source": [
        "stopwordsRemovalFeature = StopWordsRemover(inputCol=\"words\", \n",
        "                                           outputCol=\"words without stop\").setStopWords(stop_words)"
      ],
      "metadata": {
        "id": "1BCAn5H09nf3"
      },
      "execution_count": null,
      "outputs": []
    },
    {
      "cell_type": "code",
      "source": [
        "from pyspark.ml import Pipeline\n",
        "stopWordRemovalPipeline = Pipeline(stages=[stopwordsRemovalFeature])\n",
        "pipelineFitRemoveStopWords = stopWordRemovalPipeline.fit(df)"
      ],
      "metadata": {
        "id": "85hvvJhR9pzk"
      },
      "execution_count": null,
      "outputs": []
    },
    {
      "cell_type": "code",
      "source": [
        "df = pipelineFitRemoveStopWords.transform(df)\n",
        "df.select('words', 'words without stop').show(5)"
      ],
      "metadata": {
        "colab": {
          "base_uri": "https://localhost:8080/"
        },
        "id": "d22Pla2U9ufH",
        "outputId": "4608513d-6e24-4d77-e60d-7a6bd6560335"
      },
      "execution_count": null,
      "outputs": [
        {
          "output_type": "stream",
          "name": "stdout",
          "text": [
            "+--------------------+--------------------+\n",
            "|               words|  words without stop|\n",
            "+--------------------+--------------------+\n",
            "|       [don't, know]|       [don't, know]|\n",
            "|[I, don't, think,...|      [don't, think]|\n",
            "|[It, is, not, the...|              [time]|\n",
            "|[I, would, never,...|[would, never, cr...|\n",
            "|[Don't, say, things]|[Don't, say, things]|\n",
            "+--------------------+--------------------+\n",
            "only showing top 5 rows\n",
            "\n"
          ]
        }
      ]
    },
    {
      "cell_type": "code",
      "source": [
        "df.select('words', 'words without stop').show(40)"
      ],
      "metadata": {
        "colab": {
          "base_uri": "https://localhost:8080/"
        },
        "id": "_A-lgPKk9wwx",
        "outputId": "50aed816-984a-44b8-8474-caef70e20ab1"
      },
      "execution_count": null,
      "outputs": [
        {
          "output_type": "stream",
          "name": "stdout",
          "text": [
            "+--------------------+--------------------+\n",
            "|               words|  words without stop|\n",
            "+--------------------+--------------------+\n",
            "|       [don't, know]|       [don't, know]|\n",
            "|[I, don't, think,...|      [don't, think]|\n",
            "|[It, is, not, the...|              [time]|\n",
            "|[I, would, never,...|[would, never, cr...|\n",
            "|[Don't, say, things]|[Don't, say, things]|\n",
            "|[I, don't, think,...|[don't, think, it...|\n",
            "|[I, have, not, re...|[requested, anyth...|\n",
            "|[Do, not, request...|     [request, card]|\n",
            "|[No, friend,, tha...|   [friend,, thanks]|\n",
            "|  [I, do, not, want]|              [want]|\n",
            "|[I, am, not, arra...|    [arranged, time]|\n",
            "|[I, would, not, l...|[would, like, alr...|\n",
            "|[I, think, a, cre...|[think, credit, c...|\n",
            "|[mmmm, I, think, ...|[mmmm, think, alt...|\n",
            "|[They, have, an, ...|[additional, info...|\n",
            "|[what, are, your,...|    [best, benefits]|\n",
            "|[mmm, is, that, I...|[mmm, don't, want...|\n",
            "|[Do, you, consult...|[consult, little,...|\n",
            "|[I, have, an, ext...|[extension, anoth...|\n",
            "|[What, is, your, ...|          [annuity?]|\n",
            "|[I, am, intereste...|[interested, gold...|\n",
            "|[I, am, intereste...|[interested, Silv...|\n",
            "|[I, have, not, ha...|[good, service, b...|\n",
            "|[yes, but, for, t...| [yes, moment, busy]|\n",
            "|[Yes, but, I, wou...|[Yes, would, like...|\n",
            "|[Yes,, but, I, do...|[Yes,, don't, dom...|\n",
            "|[Yes, but, I, wan...|[Yes, want, direc...|\n",
            "|[Yes,, I, want, t...|[Yes,, want, comm...|\n",
            "+--------------------+--------------------+\n",
            "\n"
          ]
        }
      ]
    },
    {
      "cell_type": "code",
      "source": [
        "label = F.udf(lambda x: 1.0 if x == 'escalate' else 0.0, FloatType())\n",
        "df = df.withColumn('label', label('label'))"
      ],
      "metadata": {
        "id": "MRlq1gs09zxr"
      },
      "execution_count": null,
      "outputs": []
    },
    {
      "cell_type": "code",
      "source": [
        "df.select('label').show()"
      ],
      "metadata": {
        "colab": {
          "base_uri": "https://localhost:8080/"
        },
        "id": "eJPQuEo793Rt",
        "outputId": "539e5c62-35ad-47c1-8602-ebbe7b876a52"
      },
      "execution_count": null,
      "outputs": [
        {
          "output_type": "stream",
          "name": "stdout",
          "text": [
            "+-----+\n",
            "|label|\n",
            "+-----+\n",
            "|  0.0|\n",
            "|  0.0|\n",
            "|  0.0|\n",
            "|  0.0|\n",
            "|  0.0|\n",
            "|  0.0|\n",
            "|  0.0|\n",
            "|  0.0|\n",
            "|  0.0|\n",
            "|  0.0|\n",
            "|  0.0|\n",
            "|  0.0|\n",
            "|  0.0|\n",
            "|  0.0|\n",
            "|  0.0|\n",
            "|  0.0|\n",
            "|  0.0|\n",
            "|  0.0|\n",
            "|  0.0|\n",
            "|  0.0|\n",
            "+-----+\n",
            "only showing top 20 rows\n",
            "\n"
          ]
        }
      ]
    },
    {
      "cell_type": "code",
      "source": [
        "import pyspark.ml.feature as feat\n",
        "TF_ = feat.HashingTF(inputCol=\"words without stop\", \n",
        "                     outputCol=\"rawFeatures\", numFeatures=100000)\n",
        "IDF_ = feat.IDF(inputCol=\"rawFeatures\", outputCol=\"features\")"
      ],
      "metadata": {
        "id": "azsKB_dn95E_"
      },
      "execution_count": null,
      "outputs": []
    },
    {
      "cell_type": "code",
      "source": [
        "pipelineTFIDF = Pipeline(stages=[TF_, IDF_])"
      ],
      "metadata": {
        "id": "B4iz7llp97lm"
      },
      "execution_count": null,
      "outputs": []
    },
    {
      "cell_type": "code",
      "source": [
        "pipelineFit = pipelineTFIDF.fit(df)\n",
        "df = pipelineFit.transform(df)"
      ],
      "metadata": {
        "id": "mY6TRICh990d"
      },
      "execution_count": null,
      "outputs": []
    },
    {
      "cell_type": "code",
      "source": [
        "df.select('label', 'rawFeatures','features').show()"
      ],
      "metadata": {
        "colab": {
          "base_uri": "https://localhost:8080/"
        },
        "id": "lbmszxkQ9_0J",
        "outputId": "effdf046-fcf5-4ed5-9c43-e3a5c81a5d75"
      },
      "execution_count": null,
      "outputs": [
        {
          "output_type": "stream",
          "name": "stdout",
          "text": [
            "+-----+--------------------+--------------------+\n",
            "|label|         rawFeatures|            features|\n",
            "+-----+--------------------+--------------------+\n",
            "|  0.0|(100000,[47779,78...|(100000,[47779,78...|\n",
            "|  0.0|(100000,[12335,78...|(100000,[12335,78...|\n",
            "|  0.0|(100000,[78157],[...|(100000,[78157],[...|\n",
            "|  0.0|(100000,[2144,102...|(100000,[2144,102...|\n",
            "|  0.0|(100000,[17460,49...|(100000,[17460,49...|\n",
            "|  0.0|(100000,[12335,33...|(100000,[12335,33...|\n",
            "|  0.0|(100000,[35622,62...|(100000,[35622,62...|\n",
            "|  0.0|(100000,[2144,257...|(100000,[2144,257...|\n",
            "|  0.0|(100000,[9068,539...|(100000,[9068,539...|\n",
            "|  0.0|(100000,[17712],[...|(100000,[17712],[...|\n",
            "|  0.0|(100000,[72575,78...|(100000,[72575,78...|\n",
            "|  0.0|(100000,[2543,165...|(100000,[2543,165...|\n",
            "|  0.0|(100000,[2144,123...|(100000,[2144,123...|\n",
            "|  0.0|(100000,[2543,123...|(100000,[2543,123...|\n",
            "|  0.0|(100000,[40392,50...|(100000,[40392,50...|\n",
            "|  0.0|(100000,[10763,59...|(100000,[10763,59...|\n",
            "|  0.0|(100000,[9823,102...|(100000,[9823,102...|\n",
            "|  0.0|(100000,[19561,25...|(100000,[19561,25...|\n",
            "|  0.0|(100000,[2144,481...|(100000,[2144,481...|\n",
            "|  0.0|(100000,[58545],[...|(100000,[58545],[...|\n",
            "+-----+--------------------+--------------------+\n",
            "only showing top 20 rows\n",
            "\n"
          ]
        }
      ]
    },
    {
      "cell_type": "code",
      "source": [
        "(trainingDF, testDF) = df.randomSplit([0.75, 0.25], seed = 1234)"
      ],
      "metadata": {
        "id": "GsutfTS2-Cp2"
      },
      "execution_count": null,
      "outputs": []
    },
    {
      "cell_type": "code",
      "source": [
        "from pyspark.ml.classification import LogisticRegression\n",
        "logreg = LogisticRegression(regParam=0.025)"
      ],
      "metadata": {
        "id": "654mLCNM-H25"
      },
      "execution_count": null,
      "outputs": []
    },
    {
      "cell_type": "code",
      "source": [
        "logregModel = logreg.fit(trainingDF)\n"
      ],
      "metadata": {
        "id": "R8NwC3A_-Jis"
      },
      "execution_count": null,
      "outputs": []
    },
    {
      "cell_type": "code",
      "source": [
        "predictionDF = logregModel.transform(testDF)"
      ],
      "metadata": {
        "id": "qDU2N0Ro-LM-"
      },
      "execution_count": null,
      "outputs": []
    },
    {
      "cell_type": "code",
      "source": [
        "predictionDF.select('label', 'probability', 'prediction').show(10)"
      ],
      "metadata": {
        "colab": {
          "base_uri": "https://localhost:8080/"
        },
        "id": "OYSpgZPr-U9s",
        "outputId": "d0a3cbf1-e0fb-4469-a64d-f4a4dc11583d"
      },
      "execution_count": null,
      "outputs": [
        {
          "output_type": "stream",
          "name": "stdout",
          "text": [
            "+-----+-----------+----------+\n",
            "|label|probability|prediction|\n",
            "+-----+-----------+----------+\n",
            "|  0.0|  [1.0,0.0]|       0.0|\n",
            "|  0.0|  [1.0,0.0]|       0.0|\n",
            "|  0.0|  [1.0,0.0]|       0.0|\n",
            "|  0.0|  [1.0,0.0]|       0.0|\n",
            "|  0.0|  [1.0,0.0]|       0.0|\n",
            "|  0.0|  [1.0,0.0]|       0.0|\n",
            "|  0.0|  [1.0,0.0]|       0.0|\n",
            "+-----+-----------+----------+\n",
            "\n"
          ]
        }
      ]
    },
    {
      "cell_type": "code",
      "source": [
        "predictionDF.crosstab('label', 'prediction').show()"
      ],
      "metadata": {
        "colab": {
          "base_uri": "https://localhost:8080/"
        },
        "id": "WQnSwaSe-Wy1",
        "outputId": "140c8ede-4a9b-4046-bf26-c05316615246"
      },
      "execution_count": null,
      "outputs": [
        {
          "output_type": "stream",
          "name": "stdout",
          "text": [
            "+----------------+---+\n",
            "|label_prediction|0.0|\n",
            "+----------------+---+\n",
            "|             0.0|  7|\n",
            "+----------------+---+\n",
            "\n"
          ]
        }
      ]
    },
    {
      "cell_type": "code",
      "source": [
        "from sklearn import metrics\n",
        "actual = predictionDF.select('label').toPandas()\n",
        "predicted = predictionDF.select('prediction').toPandas()"
      ],
      "metadata": {
        "id": "fveFrpEH-nwY"
      },
      "execution_count": null,
      "outputs": []
    },
    {
      "cell_type": "code",
      "source": [
        "print('accuracy score: {}%'.format(round(metrics.accuracy_score(actual, predicted),3)*100))"
      ],
      "metadata": {
        "colab": {
          "base_uri": "https://localhost:8080/"
        },
        "id": "x16UVOOT-sPu",
        "outputId": "8b06ac31-57f2-46f1-e91b-a2c0b801bdbf"
      },
      "execution_count": null,
      "outputs": [
        {
          "output_type": "stream",
          "name": "stdout",
          "text": [
            "accuracy score: 100.0%\n"
          ]
        }
      ]
    },
    {
      "cell_type": "code",
      "source": [
        "pip install googletrans==4.0.0-rc1"
      ],
      "metadata": {
        "colab": {
          "base_uri": "https://localhost:8080/"
        },
        "id": "YKt1gQC_HB_o",
        "outputId": "6e52515e-365e-4e27-ad4d-c33a5b2f9e1f"
      },
      "execution_count": null,
      "outputs": [
        {
          "output_type": "stream",
          "name": "stdout",
          "text": [
            "Looking in indexes: https://pypi.org/simple, https://us-python.pkg.dev/colab-wheels/public/simple/\n",
            "Collecting googletrans==4.0.0-rc1\n",
            "  Downloading googletrans-4.0.0rc1.tar.gz (20 kB)\n",
            "Collecting httpx==0.13.3\n",
            "  Downloading httpx-0.13.3-py3-none-any.whl (55 kB)\n",
            "\u001b[K     |████████████████████████████████| 55 kB 3.0 MB/s \n",
            "\u001b[?25hRequirement already satisfied: chardet==3.* in /usr/local/lib/python3.7/dist-packages (from httpx==0.13.3->googletrans==4.0.0-rc1) (3.0.4)\n",
            "Requirement already satisfied: idna==2.* in /usr/local/lib/python3.7/dist-packages (from httpx==0.13.3->googletrans==4.0.0-rc1) (2.10)\n",
            "Collecting rfc3986<2,>=1.3\n",
            "  Downloading rfc3986-1.5.0-py2.py3-none-any.whl (31 kB)\n",
            "Collecting sniffio\n",
            "  Downloading sniffio-1.3.0-py3-none-any.whl (10 kB)\n",
            "Collecting httpcore==0.9.*\n",
            "  Downloading httpcore-0.9.1-py3-none-any.whl (42 kB)\n",
            "\u001b[K     |████████████████████████████████| 42 kB 1.0 MB/s \n",
            "\u001b[?25hCollecting hstspreload\n",
            "  Downloading hstspreload-2022.10.1-py3-none-any.whl (1.4 MB)\n",
            "\u001b[K     |████████████████████████████████| 1.4 MB 39.9 MB/s \n",
            "\u001b[?25hRequirement already satisfied: certifi in /usr/local/lib/python3.7/dist-packages (from httpx==0.13.3->googletrans==4.0.0-rc1) (2022.9.24)\n",
            "Collecting h11<0.10,>=0.8\n",
            "  Downloading h11-0.9.0-py2.py3-none-any.whl (53 kB)\n",
            "\u001b[K     |████████████████████████████████| 53 kB 1.7 MB/s \n",
            "\u001b[?25hCollecting h2==3.*\n",
            "  Downloading h2-3.2.0-py2.py3-none-any.whl (65 kB)\n",
            "\u001b[K     |████████████████████████████████| 65 kB 2.9 MB/s \n",
            "\u001b[?25hCollecting hyperframe<6,>=5.2.0\n",
            "  Downloading hyperframe-5.2.0-py2.py3-none-any.whl (12 kB)\n",
            "Collecting hpack<4,>=3.0\n",
            "  Downloading hpack-3.0.0-py2.py3-none-any.whl (38 kB)\n",
            "Building wheels for collected packages: googletrans\n",
            "  Building wheel for googletrans (setup.py) ... \u001b[?25l\u001b[?25hdone\n",
            "  Created wheel for googletrans: filename=googletrans-4.0.0rc1-py3-none-any.whl size=17416 sha256=8d49f1e2062f5205f4133bff6ffbb523fd1afa2a37ae997957fc03ac0f771c24\n",
            "  Stored in directory: /root/.cache/pip/wheels/43/34/00/4fe71786ea6d12314b29037620c36d857e5d104ac2748bf82a\n",
            "Successfully built googletrans\n",
            "Installing collected packages: hyperframe, hpack, sniffio, h2, h11, rfc3986, httpcore, hstspreload, httpx, googletrans\n",
            "Successfully installed googletrans-4.0.0rc1 h11-0.9.0 h2-3.2.0 hpack-3.0.0 hstspreload-2022.10.1 httpcore-0.9.1 httpx-0.13.3 hyperframe-5.2.0 rfc3986-1.5.0 sniffio-1.3.0\n"
          ]
        }
      ]
    },
    {
      "cell_type": "code",
      "source": [],
      "metadata": {
        "id": "IX7tatX_NKxt"
      },
      "execution_count": null,
      "outputs": []
    },
    {
      "cell_type": "code",
      "source": [],
      "metadata": {
        "id": "WPXE4VBlSBJ7"
      },
      "execution_count": null,
      "outputs": []
    }
  ]
}