{
  "nbformat": 4,
  "nbformat_minor": 0,
  "metadata": {
    "colab": {
      "provenance": [],
      "include_colab_link": true
    },
    "kernelspec": {
      "name": "python3",
      "display_name": "Python 3"
    },
    "language_info": {
      "name": "python"
    }
  },
  "cells": [
    {
      "cell_type": "markdown",
      "metadata": {
        "id": "view-in-github",
        "colab_type": "text"
      },
      "source": [
        "<a href=\"https://colab.research.google.com/github/CiinKRG/RT-card/blob/main/Untitled3.ipynb\" target=\"_parent\"><img src=\"https://colab.research.google.com/assets/colab-badge.svg\" alt=\"Open In Colab\"/></a>"
      ]
    },
    {
      "cell_type": "code",
      "source": [
        "pip install pyspark"
      ],
      "metadata": {
        "colab": {
          "base_uri": "https://localhost:8080/"
        },
        "id": "4lDnEupDvPM7",
        "outputId": "e8ac4564-eec3-445e-867c-739e4e022f5b"
      },
      "execution_count": null,
      "outputs": [
        {
          "output_type": "stream",
          "name": "stdout",
          "text": [
            "Looking in indexes: https://pypi.org/simple, https://us-python.pkg.dev/colab-wheels/public/simple/\n",
            "Collecting pyspark\n",
            "  Downloading pyspark-3.3.0.tar.gz (281.3 MB)\n",
            "\u001b[K     |████████████████████████████████| 281.3 MB 47 kB/s \n",
            "\u001b[?25hCollecting py4j==0.10.9.5\n",
            "  Downloading py4j-0.10.9.5-py2.py3-none-any.whl (199 kB)\n",
            "\u001b[K     |████████████████████████████████| 199 kB 41.3 MB/s \n",
            "\u001b[?25hBuilding wheels for collected packages: pyspark\n",
            "  Building wheel for pyspark (setup.py) ... \u001b[?25l\u001b[?25hdone\n",
            "  Created wheel for pyspark: filename=pyspark-3.3.0-py2.py3-none-any.whl size=281764026 sha256=e00f73671a075e66762d019e40b687f1d3d22e3d3fe5ccef6c4cf7d55d4bcad5\n",
            "  Stored in directory: /root/.cache/pip/wheels/7a/8e/1b/f73a52650d2e5f337708d9f6a1750d451a7349a867f928b885\n",
            "Successfully built pyspark\n",
            "Installing collected packages: py4j, pyspark\n",
            "Successfully installed py4j-0.10.9.5 pyspark-3.3.0\n"
          ]
        }
      ]
    },
    {
      "cell_type": "code",
      "source": [
        "import pyspark \n",
        "from pyspark.sql import SparkSession"
      ],
      "metadata": {
        "id": "Hl5MwXXUvV6R"
      },
      "execution_count": null,
      "outputs": []
    },
    {
      "cell_type": "code",
      "source": [
        "spark = SparkSession.builder \\\n",
        "   .master(\"local\") \\\n",
        "   .appName(\"ChatBot BBVA\") \\\n",
        "   .config(\"spark.executor.memory\", \"6gb\") \\\n",
        "   .getOrCreate()"
      ],
      "metadata": {
        "id": "WTDNJ4KZvmJ_"
      },
      "execution_count": null,
      "outputs": []
    },
    {
      "cell_type": "code",
      "source": [
        "from google.colab import files \n",
        "uploaded808 = files.upload()"
      ],
      "metadata": {
        "colab": {
          "base_uri": "https://localhost:8080/",
          "height": 73
        },
        "id": "ks2LnNe15QyW",
        "outputId": "11c1190c-79c4-430e-b65e-2cbd172dc95b"
      },
      "execution_count": null,
      "outputs": [
        {
          "output_type": "display_data",
          "data": {
            "text/plain": [
              "<IPython.core.display.HTML object>"
            ],
            "text/html": [
              "\n",
              "     <input type=\"file\" id=\"files-822a47a6-6720-42ce-9e74-82994f79ea87\" name=\"files[]\" multiple disabled\n",
              "        style=\"border:none\" />\n",
              "     <output id=\"result-822a47a6-6720-42ce-9e74-82994f79ea87\">\n",
              "      Upload widget is only available when the cell has been executed in the\n",
              "      current browser session. Please rerun this cell to enable.\n",
              "      </output>\n",
              "      <script>// Copyright 2017 Google LLC\n",
              "//\n",
              "// Licensed under the Apache License, Version 2.0 (the \"License\");\n",
              "// you may not use this file except in compliance with the License.\n",
              "// You may obtain a copy of the License at\n",
              "//\n",
              "//      http://www.apache.org/licenses/LICENSE-2.0\n",
              "//\n",
              "// Unless required by applicable law or agreed to in writing, software\n",
              "// distributed under the License is distributed on an \"AS IS\" BASIS,\n",
              "// WITHOUT WARRANTIES OR CONDITIONS OF ANY KIND, either express or implied.\n",
              "// See the License for the specific language governing permissions and\n",
              "// limitations under the License.\n",
              "\n",
              "/**\n",
              " * @fileoverview Helpers for google.colab Python module.\n",
              " */\n",
              "(function(scope) {\n",
              "function span(text, styleAttributes = {}) {\n",
              "  const element = document.createElement('span');\n",
              "  element.textContent = text;\n",
              "  for (const key of Object.keys(styleAttributes)) {\n",
              "    element.style[key] = styleAttributes[key];\n",
              "  }\n",
              "  return element;\n",
              "}\n",
              "\n",
              "// Max number of bytes which will be uploaded at a time.\n",
              "const MAX_PAYLOAD_SIZE = 100 * 1024;\n",
              "\n",
              "function _uploadFiles(inputId, outputId) {\n",
              "  const steps = uploadFilesStep(inputId, outputId);\n",
              "  const outputElement = document.getElementById(outputId);\n",
              "  // Cache steps on the outputElement to make it available for the next call\n",
              "  // to uploadFilesContinue from Python.\n",
              "  outputElement.steps = steps;\n",
              "\n",
              "  return _uploadFilesContinue(outputId);\n",
              "}\n",
              "\n",
              "// This is roughly an async generator (not supported in the browser yet),\n",
              "// where there are multiple asynchronous steps and the Python side is going\n",
              "// to poll for completion of each step.\n",
              "// This uses a Promise to block the python side on completion of each step,\n",
              "// then passes the result of the previous step as the input to the next step.\n",
              "function _uploadFilesContinue(outputId) {\n",
              "  const outputElement = document.getElementById(outputId);\n",
              "  const steps = outputElement.steps;\n",
              "\n",
              "  const next = steps.next(outputElement.lastPromiseValue);\n",
              "  return Promise.resolve(next.value.promise).then((value) => {\n",
              "    // Cache the last promise value to make it available to the next\n",
              "    // step of the generator.\n",
              "    outputElement.lastPromiseValue = value;\n",
              "    return next.value.response;\n",
              "  });\n",
              "}\n",
              "\n",
              "/**\n",
              " * Generator function which is called between each async step of the upload\n",
              " * process.\n",
              " * @param {string} inputId Element ID of the input file picker element.\n",
              " * @param {string} outputId Element ID of the output display.\n",
              " * @return {!Iterable<!Object>} Iterable of next steps.\n",
              " */\n",
              "function* uploadFilesStep(inputId, outputId) {\n",
              "  const inputElement = document.getElementById(inputId);\n",
              "  inputElement.disabled = false;\n",
              "\n",
              "  const outputElement = document.getElementById(outputId);\n",
              "  outputElement.innerHTML = '';\n",
              "\n",
              "  const pickedPromise = new Promise((resolve) => {\n",
              "    inputElement.addEventListener('change', (e) => {\n",
              "      resolve(e.target.files);\n",
              "    });\n",
              "  });\n",
              "\n",
              "  const cancel = document.createElement('button');\n",
              "  inputElement.parentElement.appendChild(cancel);\n",
              "  cancel.textContent = 'Cancel upload';\n",
              "  const cancelPromise = new Promise((resolve) => {\n",
              "    cancel.onclick = () => {\n",
              "      resolve(null);\n",
              "    };\n",
              "  });\n",
              "\n",
              "  // Wait for the user to pick the files.\n",
              "  const files = yield {\n",
              "    promise: Promise.race([pickedPromise, cancelPromise]),\n",
              "    response: {\n",
              "      action: 'starting',\n",
              "    }\n",
              "  };\n",
              "\n",
              "  cancel.remove();\n",
              "\n",
              "  // Disable the input element since further picks are not allowed.\n",
              "  inputElement.disabled = true;\n",
              "\n",
              "  if (!files) {\n",
              "    return {\n",
              "      response: {\n",
              "        action: 'complete',\n",
              "      }\n",
              "    };\n",
              "  }\n",
              "\n",
              "  for (const file of files) {\n",
              "    const li = document.createElement('li');\n",
              "    li.append(span(file.name, {fontWeight: 'bold'}));\n",
              "    li.append(span(\n",
              "        `(${file.type || 'n/a'}) - ${file.size} bytes, ` +\n",
              "        `last modified: ${\n",
              "            file.lastModifiedDate ? file.lastModifiedDate.toLocaleDateString() :\n",
              "                                    'n/a'} - `));\n",
              "    const percent = span('0% done');\n",
              "    li.appendChild(percent);\n",
              "\n",
              "    outputElement.appendChild(li);\n",
              "\n",
              "    const fileDataPromise = new Promise((resolve) => {\n",
              "      const reader = new FileReader();\n",
              "      reader.onload = (e) => {\n",
              "        resolve(e.target.result);\n",
              "      };\n",
              "      reader.readAsArrayBuffer(file);\n",
              "    });\n",
              "    // Wait for the data to be ready.\n",
              "    let fileData = yield {\n",
              "      promise: fileDataPromise,\n",
              "      response: {\n",
              "        action: 'continue',\n",
              "      }\n",
              "    };\n",
              "\n",
              "    // Use a chunked sending to avoid message size limits. See b/62115660.\n",
              "    let position = 0;\n",
              "    do {\n",
              "      const length = Math.min(fileData.byteLength - position, MAX_PAYLOAD_SIZE);\n",
              "      const chunk = new Uint8Array(fileData, position, length);\n",
              "      position += length;\n",
              "\n",
              "      const base64 = btoa(String.fromCharCode.apply(null, chunk));\n",
              "      yield {\n",
              "        response: {\n",
              "          action: 'append',\n",
              "          file: file.name,\n",
              "          data: base64,\n",
              "        },\n",
              "      };\n",
              "\n",
              "      let percentDone = fileData.byteLength === 0 ?\n",
              "          100 :\n",
              "          Math.round((position / fileData.byteLength) * 100);\n",
              "      percent.textContent = `${percentDone}% done`;\n",
              "\n",
              "    } while (position < fileData.byteLength);\n",
              "  }\n",
              "\n",
              "  // All done.\n",
              "  yield {\n",
              "    response: {\n",
              "      action: 'complete',\n",
              "    }\n",
              "  };\n",
              "}\n",
              "\n",
              "scope.google = scope.google || {};\n",
              "scope.google.colab = scope.google.colab || {};\n",
              "scope.google.colab._files = {\n",
              "  _uploadFiles,\n",
              "  _uploadFilesContinue,\n",
              "};\n",
              "})(self);\n",
              "</script> "
            ]
          },
          "metadata": {}
        },
        {
          "output_type": "stream",
          "name": "stdout",
          "text": [
            "Saving ChatbotBBVA808.csv to ChatbotBBVA808.csv\n"
          ]
        }
      ]
    },
    {
      "cell_type": "code",
      "source": [
        "df = spark.read.format('com.databricks.spark.csv')\\\n",
        "                    .options(header='true', inferschema='true')\\\n",
        "                    .option(\"encoding\", \"latin1\")\\\n",
        "                    .load('ChatbotBBVA808.csv')"
      ],
      "metadata": {
        "id": "bitUQxqNwBOX"
      },
      "execution_count": null,
      "outputs": []
    },
    {
      "cell_type": "code",
      "source": [
        "df.show()"
      ],
      "metadata": {
        "colab": {
          "base_uri": "https://localhost:8080/"
        },
        "id": "l3jxuWSewHG6",
        "outputId": "6c0336f1-0ba3-4fee-d2c1-c4678652ac17"
      },
      "execution_count": null,
      "outputs": [
        {
          "output_type": "stream",
          "name": "stdout",
          "text": [
            "+---+---------+--------------------+\n",
            "| id|    label|                chat|\n",
            "+---+---------+--------------------+\n",
            "|  1| aceptado|ok acepto la tarjeta|\n",
            "|  2|rechazado| no estoy interesado|\n",
            "|  3| aceptado|              acepto|\n",
            "|  4| aceptado|                  sí|\n",
            "|  5| aceptado|   quiero la tarjeta|\n",
            "|  6| aceptado|       ok, yo acepto|\n",
            "|  7| aceptado|              acepto|\n",
            "|  8| aceptado|     aceptar tarjeta|\n",
            "|  9| aceptado|            va va va|\n",
            "| 10| aceptado|                vale|\n",
            "| 11| aceptado|                  ok|\n",
            "| 12| aceptado|          afirmativo|\n",
            "| 13| aceptado|es correcto, la q...|\n",
            "| 14| aceptado|   afirmativo colega|\n",
            "| 15| aceptado|          afirmativo|\n",
            "| 16| aceptado|          sip acepto|\n",
            "| 17| aceptado|             siuuuuu|\n",
            "| 18| aceptado|me gustaria tener...|\n",
            "| 19| aceptado|      si me gustaria|\n",
            "| 20| aceptado|           ai acepto|\n",
            "+---+---------+--------------------+\n",
            "only showing top 20 rows\n",
            "\n"
          ]
        }
      ]
    },
    {
      "cell_type": "code",
      "source": [
        "pip install googletrans==4.0.0-rc1"
      ],
      "metadata": {
        "colab": {
          "base_uri": "https://localhost:8080/"
        },
        "id": "bCkia-LHGlXY",
        "outputId": "98f317cd-cca8-4163-f21b-ee3135c1642d"
      },
      "execution_count": null,
      "outputs": [
        {
          "output_type": "stream",
          "name": "stdout",
          "text": [
            "Looking in indexes: https://pypi.org/simple, https://us-python.pkg.dev/colab-wheels/public/simple/\n",
            "Collecting googletrans==4.0.0-rc1\n",
            "  Downloading googletrans-4.0.0rc1.tar.gz (20 kB)\n",
            "Collecting httpx==0.13.3\n",
            "  Downloading httpx-0.13.3-py3-none-any.whl (55 kB)\n",
            "\u001b[K     |████████████████████████████████| 55 kB 2.0 MB/s \n",
            "\u001b[?25hRequirement already satisfied: idna==2.* in /usr/local/lib/python3.7/dist-packages (from httpx==0.13.3->googletrans==4.0.0-rc1) (2.10)\n",
            "Collecting rfc3986<2,>=1.3\n",
            "  Downloading rfc3986-1.5.0-py2.py3-none-any.whl (31 kB)\n",
            "Requirement already satisfied: certifi in /usr/local/lib/python3.7/dist-packages (from httpx==0.13.3->googletrans==4.0.0-rc1) (2022.9.24)\n",
            "Collecting sniffio\n",
            "  Downloading sniffio-1.3.0-py3-none-any.whl (10 kB)\n",
            "Collecting httpcore==0.9.*\n",
            "  Downloading httpcore-0.9.1-py3-none-any.whl (42 kB)\n",
            "\u001b[K     |████████████████████████████████| 42 kB 748 kB/s \n",
            "\u001b[?25hCollecting hstspreload\n",
            "  Downloading hstspreload-2022.10.1-py3-none-any.whl (1.4 MB)\n",
            "\u001b[K     |████████████████████████████████| 1.4 MB 11.0 MB/s \n",
            "\u001b[?25hRequirement already satisfied: chardet==3.* in /usr/local/lib/python3.7/dist-packages (from httpx==0.13.3->googletrans==4.0.0-rc1) (3.0.4)\n",
            "Collecting h11<0.10,>=0.8\n",
            "  Downloading h11-0.9.0-py2.py3-none-any.whl (53 kB)\n",
            "\u001b[K     |████████████████████████████████| 53 kB 1.7 MB/s \n",
            "\u001b[?25hCollecting h2==3.*\n",
            "  Downloading h2-3.2.0-py2.py3-none-any.whl (65 kB)\n",
            "\u001b[K     |████████████████████████████████| 65 kB 2.7 MB/s \n",
            "\u001b[?25hCollecting hpack<4,>=3.0\n",
            "  Downloading hpack-3.0.0-py2.py3-none-any.whl (38 kB)\n",
            "Collecting hyperframe<6,>=5.2.0\n",
            "  Downloading hyperframe-5.2.0-py2.py3-none-any.whl (12 kB)\n",
            "Building wheels for collected packages: googletrans\n",
            "  Building wheel for googletrans (setup.py) ... \u001b[?25l\u001b[?25hdone\n",
            "  Created wheel for googletrans: filename=googletrans-4.0.0rc1-py3-none-any.whl size=17416 sha256=f37596d34f2baee560e3ea9aad1ca2c7832796746eed5b55c4f56f3c69db62a6\n",
            "  Stored in directory: /root/.cache/pip/wheels/43/34/00/4fe71786ea6d12314b29037620c36d857e5d104ac2748bf82a\n",
            "Successfully built googletrans\n",
            "Installing collected packages: hyperframe, hpack, sniffio, h2, h11, rfc3986, httpcore, hstspreload, httpx, googletrans\n",
            "Successfully installed googletrans-4.0.0rc1 h11-0.9.0 h2-3.2.0 hpack-3.0.0 hstspreload-2022.10.1 httpcore-0.9.1 httpx-0.13.3 hyperframe-5.2.0 rfc3986-1.5.0 sniffio-1.3.0\n"
          ]
        }
      ]
    },
    {
      "cell_type": "code",
      "source": [
        "from googletrans import Translator\n",
        "translator = Translator()"
      ],
      "metadata": {
        "id": "Xq2PnmKrmwUj"
      },
      "execution_count": null,
      "outputs": []
    },
    {
      "cell_type": "code",
      "source": [
        "pandasDF = df.toPandas()\n",
        "pandasDF['translated_label'] = pandasDF['label'].apply(lambda x: translator.translate(x, dest='en').text)\n",
        "pandasDF['translated_chat'] = pandasDF['chat'].apply(lambda x: translator.translate(x, dest='en').text)\n",
        "pandasDF = pandasDF.drop(['label', 'chat'], axis=1)"
      ],
      "metadata": {
        "id": "SbZdGkZAn7j6"
      },
      "execution_count": null,
      "outputs": []
    },
    {
      "cell_type": "code",
      "source": [
        "pandasDF.head()"
      ],
      "metadata": {
        "colab": {
          "base_uri": "https://localhost:8080/",
          "height": 206
        },
        "id": "N-IJlG_QMAxp",
        "outputId": "cd213436-8a29-43bb-cc43-1544fe1cee03"
      },
      "execution_count": null,
      "outputs": [
        {
          "output_type": "execute_result",
          "data": {
            "text/plain": [
              "   id translated_label       translated_chat\n",
              "0   1         accepted  OK I accept the card\n",
              "1   2          refused   I am not interested\n",
              "2   3         accepted               I agree\n",
              "3   4         accepted                   Yes\n",
              "4   5         accepted       I want the card"
            ],
            "text/html": [
              "\n",
              "  <div id=\"df-08287d69-05ec-428c-8314-ca463b605785\">\n",
              "    <div class=\"colab-df-container\">\n",
              "      <div>\n",
              "<style scoped>\n",
              "    .dataframe tbody tr th:only-of-type {\n",
              "        vertical-align: middle;\n",
              "    }\n",
              "\n",
              "    .dataframe tbody tr th {\n",
              "        vertical-align: top;\n",
              "    }\n",
              "\n",
              "    .dataframe thead th {\n",
              "        text-align: right;\n",
              "    }\n",
              "</style>\n",
              "<table border=\"1\" class=\"dataframe\">\n",
              "  <thead>\n",
              "    <tr style=\"text-align: right;\">\n",
              "      <th></th>\n",
              "      <th>id</th>\n",
              "      <th>translated_label</th>\n",
              "      <th>translated_chat</th>\n",
              "    </tr>\n",
              "  </thead>\n",
              "  <tbody>\n",
              "    <tr>\n",
              "      <th>0</th>\n",
              "      <td>1</td>\n",
              "      <td>accepted</td>\n",
              "      <td>OK I accept the card</td>\n",
              "    </tr>\n",
              "    <tr>\n",
              "      <th>1</th>\n",
              "      <td>2</td>\n",
              "      <td>refused</td>\n",
              "      <td>I am not interested</td>\n",
              "    </tr>\n",
              "    <tr>\n",
              "      <th>2</th>\n",
              "      <td>3</td>\n",
              "      <td>accepted</td>\n",
              "      <td>I agree</td>\n",
              "    </tr>\n",
              "    <tr>\n",
              "      <th>3</th>\n",
              "      <td>4</td>\n",
              "      <td>accepted</td>\n",
              "      <td>Yes</td>\n",
              "    </tr>\n",
              "    <tr>\n",
              "      <th>4</th>\n",
              "      <td>5</td>\n",
              "      <td>accepted</td>\n",
              "      <td>I want the card</td>\n",
              "    </tr>\n",
              "  </tbody>\n",
              "</table>\n",
              "</div>\n",
              "      <button class=\"colab-df-convert\" onclick=\"convertToInteractive('df-08287d69-05ec-428c-8314-ca463b605785')\"\n",
              "              title=\"Convert this dataframe to an interactive table.\"\n",
              "              style=\"display:none;\">\n",
              "        \n",
              "  <svg xmlns=\"http://www.w3.org/2000/svg\" height=\"24px\"viewBox=\"0 0 24 24\"\n",
              "       width=\"24px\">\n",
              "    <path d=\"M0 0h24v24H0V0z\" fill=\"none\"/>\n",
              "    <path d=\"M18.56 5.44l.94 2.06.94-2.06 2.06-.94-2.06-.94-.94-2.06-.94 2.06-2.06.94zm-11 1L8.5 8.5l.94-2.06 2.06-.94-2.06-.94L8.5 2.5l-.94 2.06-2.06.94zm10 10l.94 2.06.94-2.06 2.06-.94-2.06-.94-.94-2.06-.94 2.06-2.06.94z\"/><path d=\"M17.41 7.96l-1.37-1.37c-.4-.4-.92-.59-1.43-.59-.52 0-1.04.2-1.43.59L10.3 9.45l-7.72 7.72c-.78.78-.78 2.05 0 2.83L4 21.41c.39.39.9.59 1.41.59.51 0 1.02-.2 1.41-.59l7.78-7.78 2.81-2.81c.8-.78.8-2.07 0-2.86zM5.41 20L4 18.59l7.72-7.72 1.47 1.35L5.41 20z\"/>\n",
              "  </svg>\n",
              "      </button>\n",
              "      \n",
              "  <style>\n",
              "    .colab-df-container {\n",
              "      display:flex;\n",
              "      flex-wrap:wrap;\n",
              "      gap: 12px;\n",
              "    }\n",
              "\n",
              "    .colab-df-convert {\n",
              "      background-color: #E8F0FE;\n",
              "      border: none;\n",
              "      border-radius: 50%;\n",
              "      cursor: pointer;\n",
              "      display: none;\n",
              "      fill: #1967D2;\n",
              "      height: 32px;\n",
              "      padding: 0 0 0 0;\n",
              "      width: 32px;\n",
              "    }\n",
              "\n",
              "    .colab-df-convert:hover {\n",
              "      background-color: #E2EBFA;\n",
              "      box-shadow: 0px 1px 2px rgba(60, 64, 67, 0.3), 0px 1px 3px 1px rgba(60, 64, 67, 0.15);\n",
              "      fill: #174EA6;\n",
              "    }\n",
              "\n",
              "    [theme=dark] .colab-df-convert {\n",
              "      background-color: #3B4455;\n",
              "      fill: #D2E3FC;\n",
              "    }\n",
              "\n",
              "    [theme=dark] .colab-df-convert:hover {\n",
              "      background-color: #434B5C;\n",
              "      box-shadow: 0px 1px 3px 1px rgba(0, 0, 0, 0.15);\n",
              "      filter: drop-shadow(0px 1px 2px rgba(0, 0, 0, 0.3));\n",
              "      fill: #FFFFFF;\n",
              "    }\n",
              "  </style>\n",
              "\n",
              "      <script>\n",
              "        const buttonEl =\n",
              "          document.querySelector('#df-08287d69-05ec-428c-8314-ca463b605785 button.colab-df-convert');\n",
              "        buttonEl.style.display =\n",
              "          google.colab.kernel.accessAllowed ? 'block' : 'none';\n",
              "\n",
              "        async function convertToInteractive(key) {\n",
              "          const element = document.querySelector('#df-08287d69-05ec-428c-8314-ca463b605785');\n",
              "          const dataTable =\n",
              "            await google.colab.kernel.invokeFunction('convertToInteractive',\n",
              "                                                     [key], {});\n",
              "          if (!dataTable) return;\n",
              "\n",
              "          const docLinkHtml = 'Like what you see? Visit the ' +\n",
              "            '<a target=\"_blank\" href=https://colab.research.google.com/notebooks/data_table.ipynb>data table notebook</a>'\n",
              "            + ' to learn more about interactive tables.';\n",
              "          element.innerHTML = '';\n",
              "          dataTable['output_type'] = 'display_data';\n",
              "          await google.colab.output.renderOutput(dataTable, element);\n",
              "          const docLink = document.createElement('div');\n",
              "          docLink.innerHTML = docLinkHtml;\n",
              "          element.appendChild(docLink);\n",
              "        }\n",
              "      </script>\n",
              "    </div>\n",
              "  </div>\n",
              "  "
            ]
          },
          "metadata": {},
          "execution_count": 43
        }
      ]
    },
    {
      "cell_type": "code",
      "source": [
        "df = spark.createDataFrame(pandasDF)\n",
        "df = df.withColumnRenamed(\"translated_label\",\"label\")\n",
        "df = df.withColumnRenamed(\"translated_chat\",\"chat\")\n",
        "df.show()"
      ],
      "metadata": {
        "colab": {
          "base_uri": "https://localhost:8080/"
        },
        "id": "2xUVWhMpnoB0",
        "outputId": "decf510d-dada-4d50-ccaa-b29a80129970"
      },
      "execution_count": null,
      "outputs": [
        {
          "output_type": "stream",
          "name": "stdout",
          "text": [
            "+---+--------+--------------------+\n",
            "| id|   label|                chat|\n",
            "+---+--------+--------------------+\n",
            "|  1|accepted|OK I accept the card|\n",
            "|  2| refused| I am not interested|\n",
            "|  3|accepted|             I agree|\n",
            "|  4|accepted|                 Yes|\n",
            "|  5|accepted|     I want the card|\n",
            "|  6|accepted|        ok, I accept|\n",
            "|  7|accepted|             I agree|\n",
            "|  8|accepted|         Accept card|\n",
            "|  9|accepted|                will|\n",
            "| 10|accepted|                vale|\n",
            "| 11|accepted|                  ok|\n",
            "| 12|accepted|         affirmative|\n",
            "| 13|accepted|It's correct, I w...|\n",
            "| 14|accepted|affirmative colle...|\n",
            "| 15|accepted|         affirmative|\n",
            "| 16|accepted|            I accept|\n",
            "| 17|accepted|             Suuuuuu|\n",
            "| 18|accepted|I would like to h...|\n",
            "| 19|accepted|     yes I'd like to|\n",
            "| 20|accepted|     You have acepto|\n",
            "+---+--------+--------------------+\n",
            "only showing top 20 rows\n",
            "\n"
          ]
        }
      ]
    },
    {
      "cell_type": "code",
      "source": [
        "df.groupBy(\"label\") \\\n",
        "    .count() \\\n",
        "    .orderBy(\"count\", ascending = False) \\\n",
        "    .show()"
      ],
      "metadata": {
        "colab": {
          "base_uri": "https://localhost:8080/"
        },
        "id": "12-gIsp97pjY",
        "outputId": "c9bddf58-541c-4bd0-8c5c-6669ef9424aa"
      },
      "execution_count": null,
      "outputs": [
        {
          "output_type": "stream",
          "name": "stdout",
          "text": [
            "+--------+-----+\n",
            "|   label|count|\n",
            "+--------+-----+\n",
            "| refused|   79|\n",
            "|accepted|   59|\n",
            "+--------+-----+\n",
            "\n"
          ]
        }
      ]
    },
    {
      "cell_type": "code",
      "source": [
        "import pyspark.sql.functions as F\n",
        "df = df.withColumn('word_count',F.size(F.split(F.col('chat'),' ')))"
      ],
      "metadata": {
        "id": "qh3pPEW_7wOH"
      },
      "execution_count": null,
      "outputs": []
    },
    {
      "cell_type": "code",
      "source": [
        "df.show()"
      ],
      "metadata": {
        "colab": {
          "base_uri": "https://localhost:8080/"
        },
        "id": "b4iONHDa76LY",
        "outputId": "d6fcc438-ce72-4fda-a238-fbda3e044701"
      },
      "execution_count": null,
      "outputs": [
        {
          "output_type": "stream",
          "name": "stdout",
          "text": [
            "+---+--------+--------------------+----------+\n",
            "| id|   label|                chat|word_count|\n",
            "+---+--------+--------------------+----------+\n",
            "|  1|accepted|OK I accept the card|         5|\n",
            "|  2| refused| I am not interested|         4|\n",
            "|  3|accepted|             I agree|         2|\n",
            "|  4|accepted|                 Yes|         1|\n",
            "|  5|accepted|     I want the card|         4|\n",
            "|  6|accepted|        ok, I accept|         3|\n",
            "|  7|accepted|             I agree|         2|\n",
            "|  8|accepted|         Accept card|         2|\n",
            "|  9|accepted|                will|         1|\n",
            "| 10|accepted|                vale|         1|\n",
            "| 11|accepted|                  ok|         1|\n",
            "| 12|accepted|         affirmative|         1|\n",
            "| 13|accepted|It's correct, I w...|         5|\n",
            "| 14|accepted|affirmative colle...|         2|\n",
            "| 15|accepted|         affirmative|         1|\n",
            "| 16|accepted|            I accept|         2|\n",
            "| 17|accepted|             Suuuuuu|         1|\n",
            "| 18|accepted|I would like to h...|         7|\n",
            "| 19|accepted|     yes I'd like to|         4|\n",
            "| 20|accepted|     You have acepto|         3|\n",
            "+---+--------+--------------------+----------+\n",
            "only showing top 20 rows\n",
            "\n"
          ]
        }
      ]
    },
    {
      "cell_type": "code",
      "source": [
        "df.groupBy('label')\\\n",
        "    .agg(F.avg('word_count').alias('avg_word_count'))\\\n",
        "    .orderBy('avg_word_count', ascending = False) \\\n",
        "    .show()"
      ],
      "metadata": {
        "colab": {
          "base_uri": "https://localhost:8080/"
        },
        "id": "2R1yhTeP79ri",
        "outputId": "a88b15db-42b8-45f5-d0aa-73ea7e43bc01"
      },
      "execution_count": null,
      "outputs": [
        {
          "output_type": "stream",
          "name": "stdout",
          "text": [
            "+--------+-----------------+\n",
            "|   label|   avg_word_count|\n",
            "+--------+-----------------+\n",
            "| refused| 5.69620253164557|\n",
            "|accepted|4.813559322033898|\n",
            "+--------+-----------------+\n",
            "\n"
          ]
        }
      ]
    },
    {
      "cell_type": "code",
      "source": [
        "!pip3 install textblob"
      ],
      "metadata": {
        "colab": {
          "base_uri": "https://localhost:8080/"
        },
        "id": "Ds9CBspm8a_l",
        "outputId": "3397b933-9100-47e8-95cd-f9cc947a6b4a"
      },
      "execution_count": null,
      "outputs": [
        {
          "output_type": "stream",
          "name": "stdout",
          "text": [
            "Looking in indexes: https://pypi.org/simple, https://us-python.pkg.dev/colab-wheels/public/simple/\n",
            "Requirement already satisfied: textblob in /usr/local/lib/python3.7/dist-packages (0.15.3)\n",
            "Requirement already satisfied: nltk>=3.1 in /usr/local/lib/python3.7/dist-packages (from textblob) (3.7)\n",
            "Requirement already satisfied: click in /usr/local/lib/python3.7/dist-packages (from nltk>=3.1->textblob) (7.1.2)\n",
            "Requirement already satisfied: tqdm in /usr/local/lib/python3.7/dist-packages (from nltk>=3.1->textblob) (4.64.1)\n",
            "Requirement already satisfied: joblib in /usr/local/lib/python3.7/dist-packages (from nltk>=3.1->textblob) (1.2.0)\n",
            "Requirement already satisfied: regex>=2021.8.3 in /usr/local/lib/python3.7/dist-packages (from nltk>=3.1->textblob) (2022.6.2)\n"
          ]
        }
      ]
    },
    {
      "cell_type": "code",
      "source": [
        "from textblob import TextBlob\n",
        "def sentiment_score(chat):\n",
        "        return TextBlob(chat).sentiment.polarity"
      ],
      "metadata": {
        "id": "n5cqAw_y9GdE"
      },
      "execution_count": null,
      "outputs": []
    },
    {
      "cell_type": "code",
      "source": [
        "from pyspark.sql.types import FloatType\n",
        "sentiment_score_udf = F.udf(lambda x: sentiment_score(x), FloatType())"
      ],
      "metadata": {
        "id": "IQiW93eO9RUI"
      },
      "execution_count": null,
      "outputs": []
    },
    {
      "cell_type": "code",
      "source": [
        "df = df.select('id', 'label', 'chat','word_count',\n",
        "                   sentiment_score_udf('chat').alias('sentiment_score'))\n",
        "df.show()"
      ],
      "metadata": {
        "colab": {
          "base_uri": "https://localhost:8080/"
        },
        "id": "yG_aft9w9VGF",
        "outputId": "90990d3a-4e1b-42d0-f40c-28878268d891"
      },
      "execution_count": null,
      "outputs": [
        {
          "output_type": "stream",
          "name": "stdout",
          "text": [
            "+---+--------+--------------------+----------+---------------+\n",
            "| id|   label|                chat|word_count|sentiment_score|\n",
            "+---+--------+--------------------+----------+---------------+\n",
            "|  1|accepted|OK I accept the card|         5|            0.5|\n",
            "|  2| refused| I am not interested|         4|         -0.125|\n",
            "|  3|accepted|             I agree|         2|            0.0|\n",
            "|  4|accepted|                 Yes|         1|            0.0|\n",
            "|  5|accepted|     I want the card|         4|            0.0|\n",
            "|  6|accepted|        ok, I accept|         3|            0.5|\n",
            "|  7|accepted|             I agree|         2|            0.0|\n",
            "|  8|accepted|         Accept card|         2|            0.0|\n",
            "|  9|accepted|                will|         1|            0.0|\n",
            "| 10|accepted|                vale|         1|            0.0|\n",
            "| 11|accepted|                  ok|         1|            0.5|\n",
            "| 12|accepted|         affirmative|         1|            0.6|\n",
            "| 13|accepted|It's correct, I w...|         5|            0.0|\n",
            "| 14|accepted|affirmative colle...|         2|            0.6|\n",
            "| 15|accepted|         affirmative|         1|            0.6|\n",
            "| 16|accepted|            I accept|         2|            0.0|\n",
            "| 17|accepted|             Suuuuuu|         1|            0.0|\n",
            "| 18|accepted|I would like to h...|         7|            0.0|\n",
            "| 19|accepted|     yes I'd like to|         4|            0.0|\n",
            "| 20|accepted|     You have acepto|         3|            0.0|\n",
            "+---+--------+--------------------+----------+---------------+\n",
            "only showing top 20 rows\n",
            "\n"
          ]
        }
      ]
    },
    {
      "cell_type": "code",
      "source": [
        "df.groupBy('label')\\\n",
        "    .agg(F.avg('sentiment_score').alias('avg_sentiment_score'))\\\n",
        "    .orderBy('avg_sentiment_score', ascending = False) \\\n",
        "    .show()"
      ],
      "metadata": {
        "colab": {
          "base_uri": "https://localhost:8080/"
        },
        "id": "1a7P0HjC9Xk9",
        "outputId": "a1aad0c8-0754-450d-f7e8-061682b12e89"
      },
      "execution_count": null,
      "outputs": [
        {
          "output_type": "stream",
          "name": "stdout",
          "text": [
            "+--------+--------------------+\n",
            "|   label| avg_sentiment_score|\n",
            "+--------+--------------------+\n",
            "|accepted|  0.1538983058121245|\n",
            "| refused|0.060213984049196485|\n",
            "+--------+--------------------+\n",
            "\n"
          ]
        }
      ]
    },
    {
      "cell_type": "code",
      "source": [
        "df = df.withColumn('words',F.split(F.col('chat'),' '))\n",
        "df.show()"
      ],
      "metadata": {
        "colab": {
          "base_uri": "https://localhost:8080/"
        },
        "id": "guSLANrx9bO9",
        "outputId": "eebd91d5-83b4-4d05-be47-1beb3ca17f7f"
      },
      "execution_count": null,
      "outputs": [
        {
          "output_type": "stream",
          "name": "stdout",
          "text": [
            "+---+--------+--------------------+----------+---------------+--------------------+\n",
            "| id|   label|                chat|word_count|sentiment_score|               words|\n",
            "+---+--------+--------------------+----------+---------------+--------------------+\n",
            "|  1|accepted|OK I accept the card|         5|            0.5|[OK, I, accept, t...|\n",
            "|  2| refused| I am not interested|         4|         -0.125|[I, am, not, inte...|\n",
            "|  3|accepted|             I agree|         2|            0.0|          [I, agree]|\n",
            "|  4|accepted|                 Yes|         1|            0.0|               [Yes]|\n",
            "|  5|accepted|     I want the card|         4|            0.0|[I, want, the, card]|\n",
            "|  6|accepted|        ok, I accept|         3|            0.5|    [ok,, I, accept]|\n",
            "|  7|accepted|             I agree|         2|            0.0|          [I, agree]|\n",
            "|  8|accepted|         Accept card|         2|            0.0|      [Accept, card]|\n",
            "|  9|accepted|                will|         1|            0.0|              [will]|\n",
            "| 10|accepted|                vale|         1|            0.0|              [vale]|\n",
            "| 11|accepted|                  ok|         1|            0.5|                [ok]|\n",
            "| 12|accepted|         affirmative|         1|            0.6|       [affirmative]|\n",
            "| 13|accepted|It's correct, I w...|         5|            0.0|[It's, correct,, ...|\n",
            "| 14|accepted|affirmative colle...|         2|            0.6|[affirmative, col...|\n",
            "| 15|accepted|         affirmative|         1|            0.6|       [affirmative]|\n",
            "| 16|accepted|            I accept|         2|            0.0|         [I, accept]|\n",
            "| 17|accepted|             Suuuuuu|         1|            0.0|           [Suuuuuu]|\n",
            "| 18|accepted|I would like to h...|         7|            0.0|[I, would, like, ...|\n",
            "| 19|accepted|     yes I'd like to|         4|            0.0|[yes, I'd, like, to]|\n",
            "| 20|accepted|     You have acepto|         3|            0.0| [You, have, acepto]|\n",
            "+---+--------+--------------------+----------+---------------+--------------------+\n",
            "only showing top 20 rows\n",
            "\n"
          ]
        }
      ]
    },
    {
      "cell_type": "code",
      "source": [
        "stop_words = ['i','me','my','myself','we','our','ours','ourselves',\n",
        "              'you','your','yours','yourself','yourselves','he','him',\n",
        "              'his','himself','she','her','hers','herself','it','its',\n",
        "              'itself','they','them','their','theirs','themselves',\n",
        "              'what','which','who','whom','this','that','these','those',\n",
        "              'am','is','are','was','were','be','been','being','have',\n",
        "              'has','had','having','do','does','did','doing','a','an',\n",
        "              'the','and','but','if','or','because','as','until','while',\n",
        "              'of','at','by','for','with','about','against','between',\n",
        "              'into','through','during','before','after','above','below',\n",
        "              'to','from','up','down','in','out','on','off','over','under',\n",
        "              'again','further','then','once','here','there','when','where',\n",
        "              'why','how','all','any','both','each','few','more','most',\n",
        "              'other','some','such','no','nor','not','only','own','same',\n",
        "              'so','than','too','very','can','will','just','don','should','now']"
      ],
      "metadata": {
        "id": "Q9zwyqE49egZ"
      },
      "execution_count": null,
      "outputs": []
    },
    {
      "cell_type": "code",
      "source": [
        "from pyspark.ml.feature import StopWordsRemover"
      ],
      "metadata": {
        "id": "QXRlNGij9k-7"
      },
      "execution_count": null,
      "outputs": []
    },
    {
      "cell_type": "code",
      "source": [
        "stopwordsRemovalFeature = StopWordsRemover(inputCol=\"words\", \n",
        "                                           outputCol=\"words without stop\").setStopWords(stop_words)"
      ],
      "metadata": {
        "id": "1BCAn5H09nf3"
      },
      "execution_count": null,
      "outputs": []
    },
    {
      "cell_type": "code",
      "source": [
        "from pyspark.ml import Pipeline\n",
        "stopWordRemovalPipeline = Pipeline(stages=[stopwordsRemovalFeature])\n",
        "pipelineFitRemoveStopWords = stopWordRemovalPipeline.fit(df)"
      ],
      "metadata": {
        "id": "85hvvJhR9pzk"
      },
      "execution_count": null,
      "outputs": []
    },
    {
      "cell_type": "code",
      "source": [
        "df = pipelineFitRemoveStopWords.transform(df)\n",
        "df.select('words', 'words without stop').show(5)"
      ],
      "metadata": {
        "colab": {
          "base_uri": "https://localhost:8080/"
        },
        "id": "d22Pla2U9ufH",
        "outputId": "43ff8598-003a-441d-fc75-0351074537dc"
      },
      "execution_count": null,
      "outputs": [
        {
          "output_type": "stream",
          "name": "stdout",
          "text": [
            "+--------------------+------------------+\n",
            "|               words|words without stop|\n",
            "+--------------------+------------------+\n",
            "|[OK, I, accept, t...|[OK, accept, card]|\n",
            "|[I, am, not, inte...|      [interested]|\n",
            "|          [I, agree]|           [agree]|\n",
            "|               [Yes]|             [Yes]|\n",
            "|[I, want, the, card]|      [want, card]|\n",
            "+--------------------+------------------+\n",
            "only showing top 5 rows\n",
            "\n"
          ]
        }
      ]
    },
    {
      "cell_type": "code",
      "source": [
        "df.select('words', 'words without stop').show(140)"
      ],
      "metadata": {
        "colab": {
          "base_uri": "https://localhost:8080/"
        },
        "id": "_A-lgPKk9wwx",
        "outputId": "246cbdc5-bd4a-4547-8771-c49dd027496c"
      },
      "execution_count": null,
      "outputs": [
        {
          "output_type": "stream",
          "name": "stdout",
          "text": [
            "+--------------------+--------------------+\n",
            "|               words|  words without stop|\n",
            "+--------------------+--------------------+\n",
            "|[OK, I, accept, t...|  [OK, accept, card]|\n",
            "|[I, am, not, inte...|        [interested]|\n",
            "|          [I, agree]|             [agree]|\n",
            "|               [Yes]|               [Yes]|\n",
            "|[I, want, the, card]|        [want, card]|\n",
            "|    [ok,, I, accept]|       [ok,, accept]|\n",
            "|          [I, agree]|             [agree]|\n",
            "|      [Accept, card]|      [Accept, card]|\n",
            "|              [will]|                  []|\n",
            "|              [vale]|              [vale]|\n",
            "|                [ok]|                [ok]|\n",
            "|       [affirmative]|       [affirmative]|\n",
            "|[It's, correct,, ...|[It's, correct,, ...|\n",
            "|[affirmative, col...|[affirmative, col...|\n",
            "|       [affirmative]|       [affirmative]|\n",
            "|         [I, accept]|            [accept]|\n",
            "|           [Suuuuuu]|           [Suuuuuu]|\n",
            "|[I, would, like, ...| [would, like, card]|\n",
            "|[yes, I'd, like, to]|    [yes, I'd, like]|\n",
            "| [You, have, acepto]|            [acepto]|\n",
            "|      [okay, thanks]|      [okay, thanks]|\n",
            "|[Thank, you, very...|[Thank, much, acc...|\n",
            "| [Thanks, I, accept]|    [Thanks, accept]|\n",
            "|[I, accept,, than...|    [accept,, thank]|\n",
            "| [I, accept, thanks]|    [accept, thanks]|\n",
            "|[Thanks, if, I, a...|[Thanks, accept, ...|\n",
            "|      [yes,, thanks]|      [yes,, thanks]|\n",
            "| [Yes,, yes, please]| [Yes,, yes, please]|\n",
            "|[please, I, would...|[please, would, l...|\n",
            "|               [aja]|               [aja]|\n",
            "|        [just, just]|                  []|\n",
            "|[Aja, ok, if, I, ...|[Aja, ok, want, c...|\n",
            "|          [accepted]|          [accepted]|\n",
            "|[Card, is, accepted]|    [Card, accepted]|\n",
            "|[accepted, the, c...|    [accepted, card]|\n",
            "|[The, credit, car...|[credit, card, ac...|\n",
            "|[I, accept, the, ...|[accept, credit, ...|\n",
            "|[If, thanks, for,...|[thanks, credit, ...|\n",
            "|[Ok, thank, you, ...|[Ok, thank, much,...|\n",
            "|[What, else, do, ...|       [else, card?]|\n",
            "|[Thank, you!I, ne...|[Thank, you!I, ne...|\n",
            "|[If, I, need, the...|[need, card, than...|\n",
            "|[If, I, accept, t...|[accept, thank, m...|\n",
            "|[Ok, thank, you, ...|[Ok, thank, much,...|\n",
            "|[Thanks, for, the...|[Thanks, card,, a...|\n",
            "|[If, thank, you, ...|[thank, much, acc...|\n",
            "|[Thank, you,, I, ...|[Thank, you,, acc...|\n",
            "|[Ok, I, accept, t...|[Ok, accept, than...|\n",
            "|[Thank, you, so, ...|[Thank, much, acc...|\n",
            "|[not, for, the, m...|            [moment]|\n",
            "|       [no,, thanks]|       [no,, thanks]|\n",
            "|                [no]|                  []|\n",
            "|[no, thank, you, ...|       [thank, much]|\n",
            "|[I, don't, want, ...| [don't, want, card]|\n",
            "|[No, thanks, for,...|            [thanks]|\n",
            "|     [not, for, now]|                  []|\n",
            "|[Thanks,, I'm, no...|[Thanks,, I'm, in...|\n",
            "|               [nop]|               [nop]|\n",
            "|[I, already, have...|[already, credit,...|\n",
            "|[I, don't, like, ...| [don't, like, bank]|\n",
            "|[I, already, have...|[already, bank, c...|\n",
            "|[Thanks, but, I, ...|[Thanks, already,...|\n",
            "|          [negative]|          [negative]|\n",
            "|[I, don't, want, ...|[don't, want, cre...|\n",
            "|[NOP, thank, you,...|  [NOP, thank, much]|\n",
            "|[I, don't, want, ...|[don't, want, bor...|\n",
            "|[Thanks, but, rig...|[Thanks, right, d...|\n",
            "|[I, don't, need, ...|[don't, need, car...|\n",
            "|[thanks, but, no,...|    [thanks, thanks]|\n",
            "|[I, appreciate, b...|        [appreciate]|\n",
            "|[I, don't, like, ...|[don't, like, cre...|\n",
            "|    [OK, thank, you]|         [OK, thank]|\n",
            "|    [Thanks, a, lot]|       [Thanks, lot]|\n",
            "|                [we]|                  []|\n",
            "|[Not, not, not, g...|              [good]|\n",
            "|    [no, no, no, no]|                  []|\n",
            "|[I, already, have...|[already, several...|\n",
            "|[I'm, not, lookin...|[I'm, looking, cr...|\n",
            "|            [in, no]|                  []|\n",
            "|   [in, the, pastel]|            [pastel]|\n",
            "|[Not, young, thanks]|     [young, thanks]|\n",
            "|[NO, YOUNG, PEOPL...|[YOUNG, PEOPLE, T...|\n",
            "|             [later]|             [later]|\n",
            "|    [there, pa, May]|           [pa, May]|\n",
            "|[I, already, told...|     [already, told]|\n",
            "|   [not, right, now]|             [right]|\n",
            "|       [no,, thanks]|       [no,, thanks]|\n",
            "|          [mmmm, no]|              [mmmm]|\n",
            "|           [mmm, no]|               [mmm]|\n",
            "|       [don't, know]|       [don't, know]|\n",
            "|[I, don't, think,...|      [don't, think]|\n",
            "|[It, is, not, the...|              [time]|\n",
            "|[I, would, never,...|[would, never, cr...|\n",
            "|[Don't, say, things]|[Don't, say, things]|\n",
            "|[I, don't, think,...|[don't, think, it...|\n",
            "|[I, have, not, re...|[requested, anyth...|\n",
            "|[Do, not, request...|     [request, card]|\n",
            "|[No, friend,, tha...|   [friend,, thanks]|\n",
            "|  [I, do, not, want]|              [want]|\n",
            "|[I, am, not, arra...|    [arranged, time]|\n",
            "|[I, would, not, l...|[would, like, alr...|\n",
            "|[I, think, I, wou...|[think, would, li...|\n",
            "|[mmmm, I, think, ...|[mmmm, think, yes...|\n",
            "|[They, have, any,...|[additional, info...|\n",
            "|[what, are, your,...|    [best, benefits]|\n",
            "|[mmm, is, that, I...|[mmm, don't, want...|\n",
            "|[Do, you, consult...|[consult, credit,...|\n",
            "|[I, have, an, ext...|[extension, anoth...|\n",
            "|[What, is, your, ...|          [annuity?]|\n",
            "|[I, am, intereste...|[interested, gold...|\n",
            "|[I, am, intereste...|[interested, Silv...|\n",
            "|[I, have, not, ha...|[good, service, b...|\n",
            "|[yes, but, for, t...| [yes, moment, busy]|\n",
            "|[Yes, but, I, wou...|[Yes, would, like...|\n",
            "|[Yes,, but, I, do...|[Yes,, don't, dom...|\n",
            "|[Yes, but, I, wan...|[Yes, want, direc...|\n",
            "|[Yes,, I, want, t...|[Yes,, want, comm...|\n",
            "|[No,, thank, you,...| [No,, thank, young]|\n",
            "|[For, now, no, th...|            [thanks]|\n",
            "|[I, told, him, no...|[told, no,, stop,...|\n",
            "|[No,, already, st...|[No,, already, st...|\n",
            "|[Stop, bothering,...|[Stop, bothering,...|\n",
            "|[Please, stop, se...|[Please, stop, se...|\n",
            "|[I, don't, want, ...|[don't, want, hir...|\n",
            "|[I, don't, like, ...|[don't, like, ser...|\n",
            "|[I, will, change,...|[change, bank, ke...|\n",
            "|[At, the, moment,...|[moment, require,...|\n",
            "|[I'm, not, lookin...|[I'm, looking, cr...|\n",
            "|[Of, course,, I, ...|[course,, would, ...|\n",
            "|[I'm, going, to, ...| [I'm, going, block]|\n",
            "|[It's, 2a.m.,, it...|[It's, 2a.m.,, it...|\n",
            "|[Three, sad, tige...|[Three, sad, tige...|\n",
            "|[Even, Santander,...|[Even, Santander,...|\n",
            "|[Right, now, I, f...|[Right, feel, bad...|\n",
            "|[I'm, sleepy,, st...|[I'm, sleepy,, st...|\n",
            "|[Not, in, dreams,...|[dreams,, hire, a...|\n",
            "|[If, they, offere...|[offered, offers,...|\n",
            "|[You, have, wonde...|[wondered, elepha...|\n",
            "+--------------------+--------------------+\n",
            "\n"
          ]
        }
      ]
    },
    {
      "cell_type": "code",
      "source": [
        "label = F.udf(lambda x: 1.0 if x == 'accepted' else 0.0, FloatType())\n",
        "df = df.withColumn('label', label('label'))"
      ],
      "metadata": {
        "id": "MRlq1gs09zxr"
      },
      "execution_count": null,
      "outputs": []
    },
    {
      "cell_type": "code",
      "source": [
        "df.select('label').show()"
      ],
      "metadata": {
        "colab": {
          "base_uri": "https://localhost:8080/"
        },
        "id": "eJPQuEo793Rt",
        "outputId": "6eed016f-cfa8-4767-eaa2-eb1bdb50ba88"
      },
      "execution_count": null,
      "outputs": [
        {
          "output_type": "stream",
          "name": "stdout",
          "text": [
            "+-----+\n",
            "|label|\n",
            "+-----+\n",
            "|  1.0|\n",
            "|  0.0|\n",
            "|  1.0|\n",
            "|  1.0|\n",
            "|  1.0|\n",
            "|  1.0|\n",
            "|  1.0|\n",
            "|  1.0|\n",
            "|  1.0|\n",
            "|  1.0|\n",
            "|  1.0|\n",
            "|  1.0|\n",
            "|  1.0|\n",
            "|  1.0|\n",
            "|  1.0|\n",
            "|  1.0|\n",
            "|  1.0|\n",
            "|  1.0|\n",
            "|  1.0|\n",
            "|  1.0|\n",
            "+-----+\n",
            "only showing top 20 rows\n",
            "\n"
          ]
        }
      ]
    },
    {
      "cell_type": "code",
      "source": [
        "import pyspark.ml.feature as feat\n",
        "TF_ = feat.HashingTF(inputCol=\"words without stop\", \n",
        "                     outputCol=\"rawFeatures\", numFeatures=100000)\n",
        "IDF_ = feat.IDF(inputCol=\"rawFeatures\", outputCol=\"features\")"
      ],
      "metadata": {
        "id": "azsKB_dn95E_"
      },
      "execution_count": null,
      "outputs": []
    },
    {
      "cell_type": "code",
      "source": [
        "pipelineTFIDF = Pipeline(stages=[TF_, IDF_])"
      ],
      "metadata": {
        "id": "B4iz7llp97lm"
      },
      "execution_count": null,
      "outputs": []
    },
    {
      "cell_type": "code",
      "source": [
        "pipelineFit = pipelineTFIDF.fit(df)\n",
        "df = pipelineFit.transform(df)"
      ],
      "metadata": {
        "id": "mY6TRICh990d"
      },
      "execution_count": null,
      "outputs": []
    },
    {
      "cell_type": "code",
      "source": [
        "df.select('label', 'rawFeatures','features').show()"
      ],
      "metadata": {
        "colab": {
          "base_uri": "https://localhost:8080/"
        },
        "id": "lbmszxkQ9_0J",
        "outputId": "75ce2306-5aac-4909-a069-429092f10232"
      },
      "execution_count": null,
      "outputs": [
        {
          "output_type": "stream",
          "name": "stdout",
          "text": [
            "+-----+--------------------+--------------------+\n",
            "|label|         rawFeatures|            features|\n",
            "+-----+--------------------+--------------------+\n",
            "|  1.0|(100000,[2144,626...|(100000,[2144,626...|\n",
            "|  0.0|(100000,[40468],[...|(100000,[40468],[...|\n",
            "|  1.0|(100000,[46925],[...|(100000,[46925],[...|\n",
            "|  1.0|(100000,[66161],[...|(100000,[66161],[...|\n",
            "|  1.0|(100000,[2144,177...|(100000,[2144,177...|\n",
            "|  1.0|(100000,[52024,62...|(100000,[52024,62...|\n",
            "|  1.0|(100000,[46925],[...|(100000,[46925],[...|\n",
            "|  1.0|(100000,[2144,994...|(100000,[2144,994...|\n",
            "|  1.0|      (100000,[],[])|      (100000,[],[])|\n",
            "|  1.0|(100000,[23712],[...|(100000,[23712],[...|\n",
            "|  1.0|(100000,[42645],[...|(100000,[42645],[...|\n",
            "|  1.0|(100000,[6005],[1...|(100000,[6005],[3...|\n",
            "|  1.0|(100000,[17712,79...|(100000,[17712,79...|\n",
            "|  1.0|(100000,[6005,906...|(100000,[6005,906...|\n",
            "|  1.0|(100000,[6005],[1...|(100000,[6005],[3...|\n",
            "|  1.0|(100000,[62657],[...|(100000,[62657],[...|\n",
            "|  1.0|(100000,[25360],[...|(100000,[25360],[...|\n",
            "|  1.0|(100000,[2144,233...|(100000,[2144,233...|\n",
            "|  1.0|(100000,[23330,25...|(100000,[23330,25...|\n",
            "|  1.0|(100000,[1486],[1...|(100000,[1486],[4...|\n",
            "+-----+--------------------+--------------------+\n",
            "only showing top 20 rows\n",
            "\n"
          ]
        }
      ]
    },
    {
      "cell_type": "code",
      "source": [
        "(trainingDF, testDF) = df.randomSplit([0.75, 0.25], seed = 1234)"
      ],
      "metadata": {
        "id": "GsutfTS2-Cp2"
      },
      "execution_count": null,
      "outputs": []
    },
    {
      "cell_type": "code",
      "source": [
        "from pyspark.ml.classification import LogisticRegression\n",
        "logreg = LogisticRegression(regParam=0.025)"
      ],
      "metadata": {
        "id": "654mLCNM-H25"
      },
      "execution_count": null,
      "outputs": []
    },
    {
      "cell_type": "code",
      "source": [
        "logregModel = logreg.fit(trainingDF)\n"
      ],
      "metadata": {
        "id": "R8NwC3A_-Jis"
      },
      "execution_count": null,
      "outputs": []
    },
    {
      "cell_type": "code",
      "source": [
        "predictionDF = logregModel.transform(testDF)"
      ],
      "metadata": {
        "id": "qDU2N0Ro-LM-"
      },
      "execution_count": null,
      "outputs": []
    },
    {
      "cell_type": "code",
      "source": [
        "predictionDF.select('label', 'probability', 'prediction').show(140)"
      ],
      "metadata": {
        "colab": {
          "base_uri": "https://localhost:8080/"
        },
        "id": "OYSpgZPr-U9s",
        "outputId": "9987a69b-9f67-4cf6-880c-4a573fbb057b"
      },
      "execution_count": null,
      "outputs": [
        {
          "output_type": "stream",
          "name": "stdout",
          "text": [
            "+-----+--------------------+----------+\n",
            "|label|         probability|prediction|\n",
            "+-----+--------------------+----------+\n",
            "|  0.0|[0.90332958023517...|       0.0|\n",
            "|  1.0|[0.65836117838317...|       0.0|\n",
            "|  1.0|[0.01221630019147...|       1.0|\n",
            "|  1.0|[0.29778525894469...|       1.0|\n",
            "|  1.0|[0.02261718638979...|       1.0|\n",
            "|  1.0|[0.80711865693835...|       0.0|\n",
            "|  1.0|[0.00831853776327...|       1.0|\n",
            "|  1.0|[0.64387209426566...|       0.0|\n",
            "|  1.0|[0.08158025677054...|       1.0|\n",
            "|  1.0|[0.14717424838074...|       1.0|\n",
            "|  1.0|[0.02820731959989...|       1.0|\n",
            "|  1.0|[0.03817921487397...|       1.0|\n",
            "|  1.0|[0.01854557370396...|       1.0|\n",
            "|  0.0|[0.28145115834333...|       1.0|\n",
            "|  0.0|[0.97463381931330...|       0.0|\n",
            "|  0.0|[0.64387209426566...|       0.0|\n",
            "|  0.0|[0.73110703010859...|       0.0|\n",
            "|  0.0|[0.98586982983375...|       0.0|\n",
            "|  0.0|[0.91443966044666...|       0.0|\n",
            "|  0.0|[0.64387209426566...|       0.0|\n",
            "|  0.0|[0.24382097168818...|       1.0|\n",
            "|  0.0|[0.59039603518640...|       0.0|\n",
            "|  0.0|[0.98476365599253...|       0.0|\n",
            "|  0.0|[0.97223401182728...|       0.0|\n",
            "|  0.0|[0.93772049051660...|       0.0|\n",
            "|  0.0|[0.88162425026057...|       0.0|\n",
            "|  0.0|[0.64867675885302...|       0.0|\n",
            "|  0.0|[0.75735671586806...|       0.0|\n",
            "|  0.0|[0.64387209426566...|       0.0|\n",
            "|  0.0|[0.96552427885008...|       0.0|\n",
            "|  0.0|[0.93467006201448...|       0.0|\n",
            "|  0.0|[0.34766890884467...|       1.0|\n",
            "|  1.0|[0.64387209426566...|       0.0|\n",
            "|  0.0|[0.98961840611904...|       0.0|\n",
            "|  0.0|[0.80014838461197...|       0.0|\n",
            "|  1.0|[0.00922694333667...|       1.0|\n",
            "|  0.0|[0.88143345496220...|       0.0|\n",
            "|  0.0|[0.79257268338285...|       0.0|\n",
            "|  0.0|[0.83625491205810...|       0.0|\n",
            "|  0.0|[0.75157303476733...|       0.0|\n",
            "|  0.0|[0.88143345496220...|       0.0|\n",
            "|  0.0|[0.87948765012596...|       0.0|\n",
            "+-----+--------------------+----------+\n",
            "\n"
          ]
        }
      ]
    },
    {
      "cell_type": "code",
      "source": [
        "predictionDF.crosstab('label', 'prediction').show()"
      ],
      "metadata": {
        "colab": {
          "base_uri": "https://localhost:8080/"
        },
        "id": "WQnSwaSe-Wy1",
        "outputId": "302f8056-082a-410a-af2d-6420a16e04fb"
      },
      "execution_count": null,
      "outputs": [
        {
          "output_type": "stream",
          "name": "stdout",
          "text": [
            "+----------------+---+---+\n",
            "|label_prediction|0.0|1.0|\n",
            "+----------------+---+---+\n",
            "|             1.0|  4| 10|\n",
            "|             0.0| 25|  3|\n",
            "+----------------+---+---+\n",
            "\n"
          ]
        }
      ]
    },
    {
      "cell_type": "code",
      "source": [
        "from sklearn import metrics\n",
        "actual = predictionDF.select('label').toPandas()\n",
        "predicted = predictionDF.select('prediction').toPandas()"
      ],
      "metadata": {
        "id": "fveFrpEH-nwY"
      },
      "execution_count": null,
      "outputs": []
    },
    {
      "cell_type": "code",
      "source": [
        "print('accuracy score: {}%'.format(round(metrics.accuracy_score(actual, predicted),3)*100))"
      ],
      "metadata": {
        "colab": {
          "base_uri": "https://localhost:8080/"
        },
        "id": "x16UVOOT-sPu",
        "outputId": "32ac73b1-7c72-4fbb-b037-ddb1ad83c35b"
      },
      "execution_count": null,
      "outputs": [
        {
          "output_type": "stream",
          "name": "stdout",
          "text": [
            "accuracy score: 83.3%\n"
          ]
        }
      ]
    },
    {
      "cell_type": "code",
      "source": [],
      "metadata": {
        "id": "IX7tatX_NKxt"
      },
      "execution_count": null,
      "outputs": []
    },
    {
      "cell_type": "code",
      "source": [],
      "metadata": {
        "id": "WPXE4VBlSBJ7"
      },
      "execution_count": null,
      "outputs": []
    }
  ]
}